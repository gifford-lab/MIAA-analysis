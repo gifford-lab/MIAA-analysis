{
 "cells": [
  {
   "cell_type": "markdown",
   "metadata": {},
   "source": [
    "# K-mer library"
   ]
  },
  {
   "cell_type": "code",
   "execution_count": 4,
   "metadata": {},
   "outputs": [],
   "source": [
    "import seaborn as sns\n",
    "import pandas as pd\n",
    "import numpy as np\n",
    "import matplotlib.pyplot as plt\n",
    "from scipy.stats import pearsonr, spearmanr\n",
    "import subprocess\n",
    "from scipy.stats import ttest_rel,wilcoxon,ranksums,ttest_ind\n",
    "from statsmodels.stats.multitest import multipletests\n",
    "import sys\n",
    "sys.path.append(\"../code\")\n",
    "from analysis_utils import *\n",
    "import shlex\n",
    "import statsmodels.api as sm\n",
    "from sklearn.metrics import explained_variance_score,mean_squared_error\n",
    "import pickle"
   ]
  },
  {
   "cell_type": "code",
   "execution_count": 5,
   "metadata": {},
   "outputs": [],
   "source": [
    "df = pd.read_table('../data/KMAC-DeepAccess-library.csv')\n",
    "norm = df.copy()\n",
    "for i in range(1,5):\n",
    "    for j in range(1,3):\n",
    "        norm['dpnii.es'+str(i)+'.'+str(j)] = norm['dpnii.es'+str(i)+'.'+str(j)]/np.sum(norm['dpnii.es'+str(i)+'.'+str(j)]/1000000)\n",
    "        norm['dpni.es'+str(i)+'.'+str(j)] = norm['dpni.es'+str(i)+'.'+str(j)]/np.sum(norm['dpni.es'+str(i)+'.'+str(j)]/1000000)\n",
    "        norm['es'+str(i)+'.'+str(j)] = norm['dpnii.es'+str(i)+'.'+str(j)]/(norm['dpnii.es'+str(i)+'.'+str(j)] + norm['dpni.es'+str(i)+'.'+str(j)])\n",
    "for i in range(1,3):\n",
    "    for j in range(1,3):\n",
    "        norm['dpnii.ed'+str(i)+'.'+str(j)] = norm['dpnii.ed'+str(i)+'.'+str(j)]/np.sum(norm['dpnii.ed'+str(i)+'.'+str(j)]/1000000)\n",
    "        norm['dpni.ed'+str(i)+'.'+str(j)] = norm['dpni.ed'+str(i)+'.'+str(j)]/np.sum(norm['dpni.ed'+str(i)+'.'+str(j)]/1000000)\n",
    "        norm['ed'+str(i)+'.'+str(j)] = norm['dpnii.ed'+str(i)+'.'+str(j)]/(norm['dpnii.ed'+str(i)+'.'+str(j)] + norm['dpni.ed'+str(i)+'.'+str(j)])"
   ]
  },
  {
   "cell_type": "code",
   "execution_count": 6,
   "metadata": {},
   "outputs": [
    {
     "data": {
      "image/png": "[encoded data removed]",
      "text/plain": [
       "<Figure size 720x360 with 2 Axes>"
      ]
     },
     "metadata": {
      "needs_background": "light"
     },
     "output_type": "display_data"
    }
   ],
   "source": [
    "norm['total normalized reads'] = norm[[c for c in norm.columns if 'dpni' in c or 'dpnii' in c]].sum(axis=1)\n",
    "norm['ES Dpn std'] = norm[[c for c in norm.columns if c[:2] == 'es']].std(axis=1)\n",
    "norm['ED Dpn std'] = norm[[c for c in norm.columns if c[:2] == 'ed']].std(axis=1)\n",
    "\n",
    "plt.figure(figsize=(10,5))\n",
    "norm['total normalized reads'] = norm[[c for c in norm.columns if 'dpni' in c or 'dpnii' in c]].sum(axis=1)\n",
    "plt.subplot(1,2,1)\n",
    "plt.scatter(x='total normalized reads',y='ES Dpn std',data=norm)\n",
    "plt.plot([300,300],[0.0,0.7],color='r')\n",
    "plt.xlabel('total normalized reads')\n",
    "plt.ylabel('ES Dpn std')\n",
    "plt.tight_layout()\n",
    "plt.subplot(1,2,2)\n",
    "norm['total_reads'] = norm[[c for c in norm.columns if 'dpni' in c or 'dpnii' in c]].sum(axis=1)\n",
    "plt.scatter(x='total normalized reads',y='ED Dpn std',data=norm)\n",
    "plt.plot([300,300],[0.0,0.7],color='r')\n",
    "plt.xlabel('total normalized reads')\n",
    "plt.ylabel('ED Dpn std')\n",
    "plt.tight_layout()\n",
    "plt.show()"
   ]
  },
  {
   "cell_type": "code",
   "execution_count": 7,
   "metadata": {},
   "outputs": [],
   "source": [
    "norm = norm[norm['total normalized reads'] > 300]\n",
    "norm.dropna(inplace=True)"
   ]
  },
  {
   "cell_type": "code",
   "execution_count": 8,
   "metadata": {},
   "outputs": [],
   "source": [
    "norm['ED Dpn ratio'] = (norm['ed1.1']+norm['ed1.2']+norm['ed2.1']+norm['ed2.2'])/4.0\n",
    "norm['ES Dpn ratio'] = (norm['es1.1']+norm['es1.2']+norm['es2.1']+norm['es2.2']+norm['es3.1']+norm['es3.2']+norm['es4.1']+norm['es4.2'])/8.0"
   ]
  },
  {
   "cell_type": "code",
   "execution_count": 9,
   "metadata": {},
   "outputs": [],
   "source": [
    "norm['catdesc'] =[cat2desc[c.strip('S')] for c in norm['category']]\n",
    "norm['kmer'] = [get_kmer(d) for d  in norm['description']]\n",
    "norm['control'] = [get_type(c) for c in norm['category']]\n",
    "norm['background'] = [get_bg(d) for d in norm['description']]"
   ]
  },
  {
   "cell_type": "code",
   "execution_count": 10,
   "metadata": {},
   "outputs": [
    {
     "data": {
      "text/plain": [
       "5507"
      ]
     },
     "execution_count": 10,
     "metadata": {},
     "output_type": "execute_result"
    }
   ],
   "source": [
    "len(norm)"
   ]
  },
  {
   "cell_type": "code",
   "execution_count": 11,
   "metadata": {},
   "outputs": [],
   "source": [
    "def gc_model(train,test,y):\n",
    "    X = sm.add_constant(train['gc.content'])\n",
    "    X_test = sm.add_constant(test['gc.content'])\n",
    "    gc_glm= sm.GLM(y,X).fit()\n",
    "    pred = gc_glm.predict(X_test)\n",
    "    return pred,gc_glm,['offset','GC']\n",
    "\n",
    "def additive_kmer_model(train,test,y):\n",
    "    kmers = set([k for k in train['kmer'] if '-' not in k])\n",
    "    train_gc = np.array(train['gc.content']).reshape((-1,1))\n",
    "    train_kmer_mat = np.zeros((train_gc.shape[0],len(kmers)))\n",
    "    for ki,kmer in enumerate(kmers):\n",
    "        for j,seq in enumerate(list(train.seq)):\n",
    "            train_kmer_mat[j,ki] = min(seq.count(kmer),1)\n",
    "    X = sm.add_constant(np.concatenate([train_gc,train_kmer_mat],axis=1))\n",
    "    \n",
    "    test_gc = np.array(test['gc.content']).reshape((-1,1))\n",
    "    test_kmer_mat = np.zeros((test_gc.shape[0],len(kmers)))\n",
    "    for ki,kmer in enumerate(kmers):\n",
    "        for j,seq in enumerate(list(test.seq)):\n",
    "            test_kmer_mat[j,ki] = min(seq.count(kmer),1)\n",
    "    X_test = sm.add_constant(np.concatenate([test_gc,test_kmer_mat],axis=1))\n",
    "    glm= sm.GLM(y,X).fit()\n",
    "    pred = glm.predict(X_test)\n",
    "    return pred,glm,['offset','GC']+list(kmers)\n",
    "\n",
    "def conditional_kmer_model(train,test,y):\n",
    "    kmers = set([k for k in train['kmer']])\n",
    "    train_gc = np.array(train['gc.content']).reshape((-1,1))\n",
    "    train_kmer_mat = np.zeros((train_gc.shape[0],len(kmers)))\n",
    "    for ki,kmer in enumerate(kmers):\n",
    "        train_kmer_mat[:,ki] = (train['kmer'] == kmer)*(train['control'] == 'motif')\n",
    "    X = sm.add_constant(np.concatenate([train_gc,train_kmer_mat],axis=1))\n",
    "    test_gc = np.array(test['gc.content']).reshape((-1,1))\n",
    "    test_kmer_mat = np.zeros((test_gc.shape[0],len(kmers)))\n",
    "    for ki,kmer in enumerate(kmers):\n",
    "        test_kmer_mat[:,ki] = (test['kmer'] == kmer)*(test['control'] == 'motif')\n",
    "    X_test = sm.add_constant(np.concatenate([test_gc,test_kmer_mat],axis=1))\n",
    "    glm= sm.GLM(y,X).fit()\n",
    "    pred = glm.predict(X_test)\n",
    "    return pred,glm,['offset','GC']+list(kmers)"
   ]
  },
  {
   "cell_type": "code",
   "execution_count": 12,
   "metadata": {},
   "outputs": [],
   "source": [
    "import statsmodels.api as sm\n",
    "from sklearn.metrics import explained_variance_score,mean_squared_error\n",
    "train_norm = norm[norm['catdesc'].isin([cat2desc['CAT'+str(i)] for i in range(9,16) if i != 11 and i != 14])]"
   ]
  },
  {
   "cell_type": "code",
   "execution_count": 13,
   "metadata": {},
   "outputs": [
    {
     "data": {
      "text/plain": [
       "{'ED-Salient-TF',\n",
       " 'ED-Salient-Top',\n",
       " 'ES-Salient-TF',\n",
       " 'ES-Salient-Top',\n",
       " 'SLOT-CNN'}"
      ]
     },
     "execution_count": 13,
     "metadata": {},
     "output_type": "execute_result"
    }
   ],
   "source": [
    "set(train_norm['catdesc'])"
   ]
  },
  {
   "cell_type": "code",
   "execution_count": 14,
   "metadata": {},
   "outputs": [
    {
     "name": "stderr",
     "output_type": "stream",
     "text": [
      "/data/gl/g1/jhammelm/env/miniconda3/envs/jupyter-cpu/lib/python3.6/site-packages/ipykernel_launcher.py:1: SettingWithCopyWarning: \n",
      "A value is trying to be set on a copy of a slice from a DataFrame.\n",
      "Try using .loc[row_indexer,col_indexer] = value instead\n",
      "\n",
      "See the caveats in the documentation: http://pandas.pydata.org/pandas-docs/stable/user_guide/indexing.html#returning-a-view-versus-a-copy\n",
      "  \"\"\"Entry point for launching an IPython kernel.\n",
      "/data/gl/g1/jhammelm/env/miniconda3/envs/jupyter-cpu/lib/python3.6/site-packages/ipykernel_launcher.py:2: SettingWithCopyWarning: \n",
      "A value is trying to be set on a copy of a slice from a DataFrame.\n",
      "Try using .loc[row_indexer,col_indexer] = value instead\n",
      "\n",
      "See the caveats in the documentation: http://pandas.pydata.org/pandas-docs/stable/user_guide/indexing.html#returning-a-view-versus-a-copy\n",
      "  \n",
      "/data/gl/g1/jhammelm/env/miniconda3/envs/jupyter-cpu/lib/python3.6/site-packages/numpy/core/fromnumeric.py:2389: FutureWarning: Method .ptp is deprecated and will be removed in a future version. Use numpy.ptp instead.\n",
      "  return ptp(axis=axis, out=out, **kwargs)\n"
     ]
    },
    {
     "name": "stdout",
     "output_type": "stream",
     "text": [
      "24\n",
      "0 train n= 2325 test n= 1205\n"
     ]
    },
    {
     "name": "stderr",
     "output_type": "stream",
     "text": [
      "/data/gl/g1/jhammelm/env/miniconda3/envs/jupyter-cpu/lib/python3.6/site-packages/pandas/core/computation/expressions.py:193: UserWarning: evaluating in Python space because the '*' operator is not supported by numexpr for the bool dtype, use '&' instead\n",
      "  op=op_str, alt_op=unsupported[op_str]\n"
     ]
    },
    {
     "name": "stdout",
     "output_type": "stream",
     "text": [
      "1 train n= 2324 test n= 1206\n"
     ]
    },
    {
     "name": "stderr",
     "output_type": "stream",
     "text": [
      "/data/gl/g1/jhammelm/env/miniconda3/envs/jupyter-cpu/lib/python3.6/site-packages/numpy/core/fromnumeric.py:2389: FutureWarning: Method .ptp is deprecated and will be removed in a future version. Use numpy.ptp instead.\n",
      "  return ptp(axis=axis, out=out, **kwargs)\n",
      "/data/gl/g1/jhammelm/env/miniconda3/envs/jupyter-cpu/lib/python3.6/site-packages/pandas/core/computation/expressions.py:193: UserWarning: evaluating in Python space because the '*' operator is not supported by numexpr for the bool dtype, use '&' instead\n",
      "  op=op_str, alt_op=unsupported[op_str]\n"
     ]
    },
    {
     "name": "stdout",
     "output_type": "stream",
     "text": [
      "2 train n= 2405 test n= 1125\n"
     ]
    },
    {
     "name": "stderr",
     "output_type": "stream",
     "text": [
      "/data/gl/g1/jhammelm/env/miniconda3/envs/jupyter-cpu/lib/python3.6/site-packages/numpy/core/fromnumeric.py:2389: FutureWarning: Method .ptp is deprecated and will be removed in a future version. Use numpy.ptp instead.\n",
      "  return ptp(axis=axis, out=out, **kwargs)\n",
      "/data/gl/g1/jhammelm/env/miniconda3/envs/jupyter-cpu/lib/python3.6/site-packages/pandas/core/computation/expressions.py:193: UserWarning: evaluating in Python space because the '*' operator is not supported by numexpr for the bool dtype, use '&' instead\n",
      "  op=op_str, alt_op=unsupported[op_str]\n"
     ]
    },
    {
     "name": "stdout",
     "output_type": "stream",
     "text": [
      "3 train n= 2326 test n= 1204\n"
     ]
    },
    {
     "name": "stderr",
     "output_type": "stream",
     "text": [
      "/data/gl/g1/jhammelm/env/miniconda3/envs/jupyter-cpu/lib/python3.6/site-packages/numpy/core/fromnumeric.py:2389: FutureWarning: Method .ptp is deprecated and will be removed in a future version. Use numpy.ptp instead.\n",
      "  return ptp(axis=axis, out=out, **kwargs)\n",
      "/data/gl/g1/jhammelm/env/miniconda3/envs/jupyter-cpu/lib/python3.6/site-packages/pandas/core/computation/expressions.py:193: UserWarning: evaluating in Python space because the '*' operator is not supported by numexpr for the bool dtype, use '&' instead\n",
      "  op=op_str, alt_op=unsupported[op_str]\n"
     ]
    },
    {
     "name": "stdout",
     "output_type": "stream",
     "text": [
      "4 train n= 2400 test n= 1130\n"
     ]
    },
    {
     "name": "stderr",
     "output_type": "stream",
     "text": [
      "/data/gl/g1/jhammelm/env/miniconda3/envs/jupyter-cpu/lib/python3.6/site-packages/numpy/core/fromnumeric.py:2389: FutureWarning: Method .ptp is deprecated and will be removed in a future version. Use numpy.ptp instead.\n",
      "  return ptp(axis=axis, out=out, **kwargs)\n",
      "/data/gl/g1/jhammelm/env/miniconda3/envs/jupyter-cpu/lib/python3.6/site-packages/pandas/core/computation/expressions.py:193: UserWarning: evaluating in Python space because the '*' operator is not supported by numexpr for the bool dtype, use '&' instead\n",
      "  op=op_str, alt_op=unsupported[op_str]\n"
     ]
    },
    {
     "name": "stdout",
     "output_type": "stream",
     "text": [
      "5 train n= 2408 test n= 1122\n"
     ]
    },
    {
     "name": "stderr",
     "output_type": "stream",
     "text": [
      "/data/gl/g1/jhammelm/env/miniconda3/envs/jupyter-cpu/lib/python3.6/site-packages/numpy/core/fromnumeric.py:2389: FutureWarning: Method .ptp is deprecated and will be removed in a future version. Use numpy.ptp instead.\n",
      "  return ptp(axis=axis, out=out, **kwargs)\n",
      "/data/gl/g1/jhammelm/env/miniconda3/envs/jupyter-cpu/lib/python3.6/site-packages/pandas/core/computation/expressions.py:193: UserWarning: evaluating in Python space because the '*' operator is not supported by numexpr for the bool dtype, use '&' instead\n",
      "  op=op_str, alt_op=unsupported[op_str]\n"
     ]
    },
    {
     "name": "stdout",
     "output_type": "stream",
     "text": [
      "6 train n= 2327 test n= 1203\n"
     ]
    },
    {
     "name": "stderr",
     "output_type": "stream",
     "text": [
      "/data/gl/g1/jhammelm/env/miniconda3/envs/jupyter-cpu/lib/python3.6/site-packages/numpy/core/fromnumeric.py:2389: FutureWarning: Method .ptp is deprecated and will be removed in a future version. Use numpy.ptp instead.\n",
      "  return ptp(axis=axis, out=out, **kwargs)\n",
      "/data/gl/g1/jhammelm/env/miniconda3/envs/jupyter-cpu/lib/python3.6/site-packages/pandas/core/computation/expressions.py:193: UserWarning: evaluating in Python space because the '*' operator is not supported by numexpr for the bool dtype, use '&' instead\n",
      "  op=op_str, alt_op=unsupported[op_str]\n"
     ]
    },
    {
     "name": "stdout",
     "output_type": "stream",
     "text": [
      "7 train n= 2327 test n= 1203\n"
     ]
    },
    {
     "name": "stderr",
     "output_type": "stream",
     "text": [
      "/data/gl/g1/jhammelm/env/miniconda3/envs/jupyter-cpu/lib/python3.6/site-packages/numpy/core/fromnumeric.py:2389: FutureWarning: Method .ptp is deprecated and will be removed in a future version. Use numpy.ptp instead.\n",
      "  return ptp(axis=axis, out=out, **kwargs)\n",
      "/data/gl/g1/jhammelm/env/miniconda3/envs/jupyter-cpu/lib/python3.6/site-packages/pandas/core/computation/expressions.py:193: UserWarning: evaluating in Python space because the '*' operator is not supported by numexpr for the bool dtype, use '&' instead\n",
      "  op=op_str, alt_op=unsupported[op_str]\n"
     ]
    }
   ],
   "source": [
    "train_norm['ed.average'] = train_norm['ED Dpn ratio']\n",
    "train_norm['es.average'] = train_norm['ES Dpn ratio']\n",
    "bgs = list(set(train_norm.background))\n",
    "adddict = {'name':[],'value':[],'celltype':[]}\n",
    "conddict = {'name':[],'value':[],'celltype':[]}\n",
    "explained_variance = {'model':[],'eval':[],'es_eval':[],'ed_eval':[],'k':[]}\n",
    "kmer_ev = {'kmer':[],'model':[],'eval':[],'rep':[]}\n",
    "print(len(bgs))\n",
    "for k in range(8):\n",
    "    bgkeep = np.random.choice(bgs,16,replace=False)\n",
    "    train_set = train_norm[train_norm['background'].isin(bgkeep)]\n",
    "    test_set = train_norm[~train_norm['background'].isin(bgkeep)]\n",
    "    print(k,'train n=',len(train_set),'test n=',len(test_set))\n",
    "    gc_pred_ed,gc_glm,_ = gc_model(train_set,test_set,train_set['ed.average'])\n",
    "    additive_pred_ed,additive_glm,additive_vars = additive_kmer_model(train_set,test_set,\n",
    "                                                                   train_set['ed.average'])\n",
    "    \n",
    "    multiplicative_pred_ed,multiplicative_glm,multiplicative_vars = additive_kmer_model(train_set,test_set,\n",
    "                                                                   np.log(train_set['ed.average']))\n",
    "    conditional_pred_ed,conditional_glm,conditional_vars = conditional_kmer_model(train_set,test_set,\n",
    "                                                                   train_set['ed.average'])\n",
    " \n",
    "    adddict['name'].extend(additive_vars)\n",
    "    adddict['celltype'].extend(['endoderm' for _ in range(len(additive_vars))])\n",
    "    adddict['value'].extend(additive_glm.params)\n",
    "    conddict['name'].extend(conditional_vars)\n",
    "    conddict['celltype'].extend(['endoderm' for _ in range(len(conditional_vars))])\n",
    "    conddict['value'].extend(conditional_glm.params)\n",
    "    \n",
    "    gc_pred_es,gc_glm,_ = gc_model(train_set,test_set,train_set['es.average'])\n",
    "    additive_pred_es,additive_glm,additive_vars = additive_kmer_model(train_set,test_set,\n",
    "                                                                   train_set['es.average'])\n",
    "    multiplicative_pred_es,multiplicative_glm,multiplicative_vars = additive_kmer_model(train_set,test_set,\n",
    "                                                                   np.log(train_set['es.average']))\n",
    "    conditional_pred_es,conditional_glm,conditional_vars = conditional_kmer_model(train_set,test_set,\n",
    "                                                                   train_set['es.average'])\n",
    "    explained_variance['model'].extend(['GC','additive','multiplicative','conditional'])\n",
    "    explained_variance['eval'].extend([explained_variance_score((test_set['ed.average']-test_set['es.average']),\n",
    "                                        (gc_pred_ed-gc_pred_es)),\n",
    "                              explained_variance_score((test_set['ed.average']-test_set['es.average']),\n",
    "                                        (additive_pred_ed-additive_pred_es)),\n",
    "                              explained_variance_score((test_set['ed.average']-test_set['es.average']),\n",
    "                                        (np.exp(multiplicative_pred_ed) - np.exp(multiplicative_pred_es))),\n",
    "                              explained_variance_score((test_set['ed.average']-test_set['es.average']),\n",
    "                                        (conditional_pred_ed-conditional_pred_es))])\n",
    "                                       \n",
    "    explained_variance['es_eval'].extend([explained_variance_score((test_set['es.average']),\n",
    "                                        (gc_pred_es)),\n",
    "                              explained_variance_score((test_set['es.average']),\n",
    "                                        (additive_pred_es)),\n",
    "                              explained_variance_score((test_set['es.average']),\n",
    "                                        np.exp(multiplicative_pred_es)),\n",
    "                              explained_variance_score((test_set['es.average']),\n",
    "                                        (conditional_pred_es))])\n",
    "    explained_variance['ed_eval'].extend([explained_variance_score((test_set['ed.average']),\n",
    "                                        (gc_pred_ed)),\n",
    "                              explained_variance_score((test_set['ed.average']),\n",
    "                                        (additive_pred_ed)),\n",
    "                              explained_variance_score((test_set['ed.average']),\n",
    "                                        np.exp(multiplicative_pred_ed)),\n",
    "                              explained_variance_score((test_set['ed.average']),\n",
    "                                        (conditional_pred_ed))])\n",
    "    explained_variance['k'].extend([k for _ in range(4)])"
   ]
  },
  {
   "cell_type": "code",
   "execution_count": 15,
   "metadata": {},
   "outputs": [
    {
     "name": "stderr",
     "output_type": "stream",
     "text": [
      "/data/gl/g1/jhammelm/env/miniconda3/envs/jupyter-cpu/lib/python3.6/site-packages/scipy/stats/morestats.py:2863: UserWarning: Sample size too small for normal approximation.\n",
      "  warnings.warn(\"Sample size too small for normal approximation.\")\n"
     ]
    },
    {
     "name": "stdout",
     "output_type": "stream",
     "text": [
      "0.005859342799884314 0.9941406572001157 0.005859342799884314\n",
      "0.005859342799884314 0.16349467479900753 0.005859342799884314\n",
      "0.005859342799884314 0.9941406572001157 0.005859342799884314\n"
     ]
    },
    {
     "data": {
      "image/png": "[encoded data removed]",
      "text/plain": [
       "<Figure size 1296x576 with 3 Axes>"
      ]
     },
     "metadata": {
      "needs_background": "light"
     },
     "output_type": "display_data"
    }
   ],
   "source": [
    "evaldf = pd.DataFrame(explained_variance)\n",
    "\n",
    "sns.set_context('notebook',font_scale=1.5)\n",
    "plt.figure(figsize=(18,8))\n",
    "plt.subplot(1,3,1)\n",
    "g = sns.swarmplot(x='model',y='es_eval',data=evaldf,color='black')\n",
    "plt.setp(g.get_xticklabels(), ha=\"right\", rotation=45)\n",
    "plt.ylabel('explained variance')\n",
    "eval_pivot = evaldf.pivot_table(index=['k'],columns=['model'],values=['es_eval'])\n",
    "test1 = wilcoxon(eval_pivot['es_eval'].conditional,eval_pivot['es_eval'].multiplicative,alternative='greater')[1]\n",
    "test2 = wilcoxon(eval_pivot['es_eval'].multiplicative,eval_pivot['es_eval'].additive,alternative='greater')[1]\n",
    "test3 = wilcoxon(eval_pivot['es_eval'].additive,eval_pivot['es_eval'].GC,alternative='greater')[1]\n",
    "\n",
    "plt.xlabel('')\n",
    "def ptostar(pval):\n",
    "    p1 = 'n.s.'\n",
    "    if pval < 0.05:\n",
    "        p1 = '*'\n",
    "    if pval < 0.01:\n",
    "        p1 = '**'\n",
    "    if pval < 0.001:\n",
    "        p1 = '***'\n",
    "    return p1\n",
    "p1 = ptostar(test1)\n",
    "p2 = ptostar(test2)\n",
    "p3 = ptostar(test3)\n",
    "print(test1,test2,test3)\n",
    "dist1=0.05\n",
    "dist2=0.2\n",
    "x1,x2 = 2,3\n",
    "y, h, col = eval_pivot['es_eval'].conditional.max() + dist2, dist1, 'k'\n",
    "plt.plot([x1, x1, x2, x2], [y, y+h, y+h, y], lw=1.5, c=col)\n",
    "plt.text((x1+x2)*0.5, y+h, p1, ha='center', va='bottom', color=col)\n",
    "x1,x2 = 1,2\n",
    "y, h, col = eval_pivot['es_eval'].multiplicative.max() + 0.18, dist1, 'k'\n",
    "plt.plot([x1, x1, x2, x2], [y, y+h, y+h, y], lw=1.5, c=col)\n",
    "plt.text((x1+x2)*0.5, y+h, p2, ha='center', va='bottom', color=col)\n",
    "x1,x2 = 0,1\n",
    "y, h, col = eval_pivot['es_eval'].additive.max() + 0.1, dist1, 'k'\n",
    "plt.plot([x1, x1, x2, x2], [y, y+h, y+h, y], lw=1.5, c=col)\n",
    "plt.text((x1+x2)*0.5, y+h, p3, ha='center', va='bottom', color=col)\n",
    "plt.xlabel('')\n",
    "plt.axis([-0.5,3.5,0,1.0])\n",
    "\n",
    "plt.title('Stem Cell Accessibility')\n",
    "plt.tight_layout()\n",
    "\n",
    "plt.subplot(1,3,2)\n",
    "g = sns.swarmplot(x='model',y='ed_eval',data=evaldf,color='black')\n",
    "plt.setp(g.get_xticklabels(), ha=\"right\", rotation=45)\n",
    "plt.ylabel('explained variance')\n",
    "plt.xlabel('')\n",
    "eval_pivot = evaldf.pivot_table(index=['k'],columns=['model'],values=['ed_eval'])\n",
    "test1 = wilcoxon(eval_pivot['ed_eval'].conditional,eval_pivot['ed_eval'].multiplicative,alternative='greater')[1]\n",
    "test2 = wilcoxon(eval_pivot['ed_eval'].multiplicative,eval_pivot['ed_eval'].additive,alternative='greater')[1]\n",
    "test3 = wilcoxon(eval_pivot['ed_eval'].additive,eval_pivot['ed_eval'].GC,alternative='greater')[1]\n",
    "\n",
    "plt.xlabel('')\n",
    "def ptostar(pval):\n",
    "    p1 = 'n.s.'\n",
    "    if pval < 0.05:\n",
    "        p1 = '*'\n",
    "    if pval < 0.01:\n",
    "        p1 = '**'\n",
    "    if pval < 0.001:\n",
    "        p1 = '***'\n",
    "    return p1\n",
    "p1 = ptostar(test1)\n",
    "p2 = ptostar(test2)\n",
    "p3 = ptostar(test3)\n",
    "print(test1,test2,test3)\n",
    "dist1=0.05\n",
    "dist2=0.2\n",
    "x1,x2 = 2,3\n",
    "y, h, col = eval_pivot['ed_eval'].conditional.max() + dist2, dist1, 'k'\n",
    "plt.plot([x1, x1, x2, x2], [y, y+h, y+h, y], lw=1.5, c=col)\n",
    "plt.text((x1+x2)*0.5, y+h, p1, ha='center', va='bottom', color=col)\n",
    "x1,x2 = 1,2\n",
    "y, h, col = eval_pivot['ed_eval'].multiplicative.max() + 0.18, dist1, 'k'\n",
    "plt.plot([x1, x1, x2, x2], [y, y+h, y+h, y], lw=1.5, c=col)\n",
    "plt.text((x1+x2)*0.5, y+h, p2, ha='center', va='bottom', color=col)\n",
    "x1,x2 = 0,1\n",
    "y, h, col = eval_pivot['ed_eval'].additive.max() + 0.1, dist1, 'k'\n",
    "plt.plot([x1, x1, x2, x2], [y, y+h, y+h, y], lw=1.5, c=col)\n",
    "plt.text((x1+x2)*0.5, y+h, p3, ha='center', va='bottom', color=col)\n",
    "plt.xlabel('')\n",
    "plt.axis([-0.5,3.5,0,0.7])\n",
    "\n",
    "\n",
    "plt.title('Definitive Endoderm Accessibility')\n",
    "plt.subplot(1,3,3)\n",
    "g = sns.swarmplot(x='model',y='eval',data=evaldf,color='black')\n",
    "plt.tight_layout()\n",
    "\n",
    "plt.setp(g.get_xticklabels(), ha=\"right\", rotation=45)\n",
    "plt.ylabel('explained variance')\n",
    "plt.xlabel('')\n",
    "\n",
    "eval_pivot = evaldf.pivot_table(index=['k'],columns=['model'],values=['eval'])\n",
    "test1 = wilcoxon(eval_pivot['eval'].conditional,eval_pivot['eval'].multiplicative,alternative='greater')[1]\n",
    "test2 = wilcoxon(eval_pivot['eval'].multiplicative,eval_pivot['eval'].additive,alternative='greater')[1]\n",
    "test3 = wilcoxon(eval_pivot['eval'].additive,eval_pivot['eval'].GC,alternative='greater')[1]\n",
    "\n",
    "plt.xlabel('')\n",
    "def ptostar(pval):\n",
    "    p1 = 'n.s.'\n",
    "    if pval < 0.05:\n",
    "        p1 = '*'\n",
    "    if pval < 0.01:\n",
    "        p1 = '**'\n",
    "    if pval < 0.001:\n",
    "        p1 = '***'\n",
    "    return p1\n",
    "p1 = ptostar(test1)\n",
    "p2 = ptostar(test2)\n",
    "p3 = ptostar(test3)\n",
    "print(test1,test2,test3)\n",
    "dist1=0.05\n",
    "dist2=0.2\n",
    "x1,x2 = 2,3\n",
    "y, h, col = eval_pivot['eval'].conditional.max() + dist2, dist1, 'k'\n",
    "plt.plot([x1, x1, x2, x2], [y, y+h, y+h, y], lw=1.5, c=col)\n",
    "plt.text((x1+x2)*0.5, y+h, p1, ha='center', va='bottom', color=col)\n",
    "x1,x2 = 1,2\n",
    "y, h, col = eval_pivot['eval'].multiplicative.max() + 0.18, dist1, 'k'\n",
    "plt.plot([x1, x1, x2, x2], [y, y+h, y+h, y], lw=1.5, c=col)\n",
    "plt.text((x1+x2)*0.5, y+h, p2, ha='center', va='bottom', color=col)\n",
    "x1,x2 = 0,1\n",
    "y, h, col = eval_pivot['eval'].additive.max() + 0.1, dist1, 'k'\n",
    "plt.plot([x1, x1, x2, x2], [y, y+h, y+h, y], lw=1, c=col)\n",
    "plt.text((x1+x2)*0.5, y+h, p3, ha='center', va='bottom', color=col)\n",
    "plt.xlabel('')\n",
    "plt.axis([-0.5,3.5,0,0.7])\n",
    "\n",
    "plt.title('Differential Accessibility')\n",
    "plt.tight_layout()\n",
    "plt.savefig('plots/compare_regression_models_accessibility.svg')"
   ]
  },
  {
   "cell_type": "markdown",
   "metadata": {},
   "source": [
    "# Consensus TF library"
   ]
  },
  {
   "cell_type": "code",
   "execution_count": 27,
   "metadata": {},
   "outputs": [],
   "source": [
    "df = pd.read_table('../data/Pioneer_TF_library.csv')"
   ]
  },
  {
   "cell_type": "code",
   "execution_count": 28,
   "metadata": {},
   "outputs": [],
   "source": [
    "expts = ['rarrxr1_slotv4_endoderm_rep1a',\n",
    "         'rarrxr1_slotv4_endoderm_rep1b',\n",
    "         'rarrxr1_slotv4_endoderm_rep2a',\n",
    "         'rarrxr1_slotv4_endoderm_rep2b',\n",
    "         'rarrxr1_slotv4_mesc_repa',\n",
    "         'rarrxr1_slotv4_mesc_repb']\n",
    "for expt in expts:\n",
    "    df[expt+'_dpnii_norm'] = df[expt+'_dpnii']/(np.sum(df[expt+'_dpnii'])/1000000)\n",
    "    df[expt+'_dpni_norm'] = df[expt+'_dpni']/(np.sum(df[expt+'_dpni'])/1000000)\n",
    "    df[expt+' Dpn Ratio'] = df[expt+'_dpnii_norm']/(df[expt+'_dpnii_norm']+df[expt+'_dpni_norm'])\n",
    "df['ES Dpn ratio'] = (df['rarrxr1_slotv4_mesc_repa Dpn Ratio'] +df['rarrxr1_slotv4_mesc_repb Dpn Ratio'])/ 2.0\n",
    "df['ED Dpn ratio'] = (df['rarrxr1_slotv4_endoderm_rep1a Dpn Ratio'] + df['rarrxr1_slotv4_endoderm_rep1b Dpn Ratio'] + df['rarrxr1_slotv4_endoderm_rep2a Dpn Ratio'] + df['rarrxr1_slotv4_endoderm_rep2b Dpn Ratio'])/ 4.0"
   ]
  },
  {
   "cell_type": "code",
   "execution_count": 29,
   "metadata": {},
   "outputs": [],
   "source": [
    "df['total normalized reads'] = df[[c for c in df.columns if 'dpni_norm' in c or 'dpnii_norm' in c]].sum(axis=1)\n",
    "df['ES Dpn std'] = df[[c for c in df.columns if 'Dpn Ratio' in c and 'mesc' in c]].std(axis=1)\n",
    "df['ED Dpn std'] = df[[c for c in df.columns if 'Dpn Ratio' in c and 'endoderm' in c]].std(axis=1)"
   ]
  },
  {
   "cell_type": "code",
   "execution_count": 30,
   "metadata": {},
   "outputs": [
    {
     "data": {
      "image/png": "[encoded data removed]",
      "text/plain": [
       "<Figure size 720x360 with 2 Axes>"
      ]
     },
     "metadata": {
      "needs_background": "light"
     },
     "output_type": "display_data"
    }
   ],
   "source": [
    "plt.figure(figsize=(10,5))\n",
    "plt.subplot(1,2,1)\n",
    "plt.scatter(x='total normalized reads',y='ES Dpn std',data=df)\n",
    "plt.plot([1000,1000],[0.0,0.4],color='r')\n",
    "plt.xlabel('total normalized reads')\n",
    "plt.ylabel('ES Dpn std')\n",
    "plt.tight_layout()\n",
    "plt.subplot(1,2,2)\n",
    "plt.scatter(x='total normalized reads',y='ED Dpn std',data=df)\n",
    "plt.plot([1000,1000],[0.0,0.7],color='r')\n",
    "plt.xlabel('total normalized reads')\n",
    "plt.ylabel('ED Dpn std')\n",
    "plt.tight_layout()\n",
    "plt.show()"
   ]
  },
  {
   "cell_type": "code",
   "execution_count": 31,
   "metadata": {},
   "outputs": [],
   "source": [
    "df = df[df['total normalized reads'] > 1000]\n",
    "df['distance'] = df['distance'].astype(str)"
   ]
  },
  {
   "cell_type": "code",
   "execution_count": 34,
   "metadata": {},
   "outputs": [],
   "source": [
    "keep = df[df['tf'].isin([c for c in set(df['tf']) \n",
    "                                      if (('oct4' in c) or ('sox2' in c) or ('klf4' in c)\n",
    "                                         or ('sox17' in c) or ('gata4' in c) or ('foxa2' in c))])]"
   ]
  },
  {
   "cell_type": "code",
   "execution_count": 35,
   "metadata": {},
   "outputs": [
    {
     "data": {
      "text/plain": [
       "['sox2', 'sox17', 'klf4', 'foxa2', 'oct4', 'gata4']"
      ]
     },
     "execution_count": 35,
     "metadata": {},
     "output_type": "execute_result"
    }
   ],
   "source": [
    "all_cats = set(keep['tf'])\n",
    "tf_singles = list(set([k for k in all_cats if len(k.split(',')) == 1]))\n",
    "tf_singles"
   ]
  },
  {
   "cell_type": "code",
   "execution_count": 49,
   "metadata": {},
   "outputs": [],
   "source": [
    "def gc_model(train,test,y,glm=None):\n",
    "    X = sm.add_constant(train['gc.content'])\n",
    "    X_test = sm.add_constant(test['gc.content'])   \n",
    "    if glm == None:\n",
    "        glm= sm.OLS(y,X).fit()\n",
    "    pred = glm.predict(X_test)\n",
    "    return pred,glm,['offset','GC']\n",
    "\n",
    "def count_tfs(cat,tf):\n",
    "    if tf in cat:\n",
    "        return cat.count(tf)\n",
    "    else:\n",
    "        return 0\n",
    "            \n",
    "def additive_kmer_model(train,test,y,glm=None):\n",
    "    tfs = tf_singles\n",
    "    train_gc = np.array(train['gc.content']).reshape((-1,1))\n",
    "    train_kmer_mat = np.zeros((train_gc.shape[0],len(tfs)))\n",
    "    for ki,tf in enumerate(tfs):\n",
    "        for j,cat in enumerate(list(train.tf)):\n",
    "            if train.iloc[j]['control'] == 'motif':\n",
    "                train_kmer_mat[j,ki] = count_tfs(cat,tf)\n",
    "    X = sm.add_constant(np.concatenate([train_gc,train_kmer_mat],axis=1))\n",
    "    \n",
    "    test_gc = np.array(test['gc.content']).reshape((-1,1))\n",
    "    test_kmer_mat = np.zeros((test_gc.shape[0],len(tfs)))\n",
    "    for ki,tf in enumerate(tfs):\n",
    "        for j,cat in enumerate(list(test.tf)):\n",
    "            if test.iloc[j]['control'] == 'motif':\n",
    "                test_kmer_mat[j,ki] = count_tfs(cat,tf)\n",
    "    X_test = sm.add_constant(np.concatenate([test_gc,test_kmer_mat],axis=1))\n",
    "    if glm == None:\n",
    "        glm= sm.OLS(y,X).fit()\n",
    "    pred = glm.predict(X_test)\n",
    "    return pred,glm,['offset','GC']+list(tfs)\n",
    "\n",
    "def conditional_kmer_model(train,test,y,glm=None):\n",
    "    tfs = tf_singles + tf_combos \n",
    "    train_gc = np.array(train['gc.content']).reshape((-1,1))\n",
    "    train_kmer_mat = np.zeros((train_gc.shape[0],len(tfs)))\n",
    "    for ki,tf in enumerate(tfs):\n",
    "        train_kmer_mat[:,ki] = (train['tf'] == tf)*(train['control'] == 'motif')\n",
    "    X = sm.add_constant(np.concatenate([train_gc,train_kmer_mat],axis=1))\n",
    "    \n",
    "    test_gc = np.array(test['gc.content']).reshape((-1,1))\n",
    "    test_kmer_mat = np.zeros((test_gc.shape[0],len(tfs)))\n",
    "    \n",
    "    for ki,tf in enumerate(tfs):\n",
    "        test_kmer_mat[:,ki] = (test['tf'] == tf)*(test['control'] == 'motif')\n",
    "    X_test = sm.add_constant(np.concatenate([test_gc,test_kmer_mat],axis=1))\n",
    "    if glm == None:\n",
    "        glm= sm.OLS(y,X).fit()\n",
    "    pred = glm.predict(X_test)\n",
    "    return pred,glm,['offset','GC']+tfs"
   ]
  },
  {
   "cell_type": "code",
   "execution_count": 50,
   "metadata": {},
   "outputs": [
    {
     "name": "stderr",
     "output_type": "stream",
     "text": [
      "/data/gl/g1/jhammelm/env/miniconda3/envs/jupyter-cpu/lib/python3.6/site-packages/ipykernel_launcher.py:18: SettingWithCopyWarning: \n",
      "A value is trying to be set on a copy of a slice from a DataFrame.\n",
      "Try using .loc[row_indexer,col_indexer] = value instead\n",
      "\n",
      "See the caveats in the documentation: http://pandas.pydata.org/pandas-docs/stable/user_guide/indexing.html#returning-a-view-versus-a-copy\n",
      "/data/gl/g1/jhammelm/env/miniconda3/envs/jupyter-cpu/lib/python3.6/site-packages/ipykernel_launcher.py:19: SettingWithCopyWarning: \n",
      "A value is trying to be set on a copy of a slice from a DataFrame.\n",
      "Try using .loc[row_indexer,col_indexer] = value instead\n",
      "\n",
      "See the caveats in the documentation: http://pandas.pydata.org/pandas-docs/stable/user_guide/indexing.html#returning-a-view-versus-a-copy\n",
      "/data/gl/g1/jhammelm/env/miniconda3/envs/jupyter-cpu/lib/python3.6/site-packages/ipykernel_launcher.py:20: SettingWithCopyWarning: \n",
      "A value is trying to be set on a copy of a slice from a DataFrame.\n",
      "Try using .loc[row_indexer,col_indexer] = value instead\n",
      "\n",
      "See the caveats in the documentation: http://pandas.pydata.org/pandas-docs/stable/user_guide/indexing.html#returning-a-view-versus-a-copy\n",
      "/data/gl/g1/jhammelm/env/miniconda3/envs/jupyter-cpu/lib/python3.6/site-packages/ipykernel_launcher.py:21: SettingWithCopyWarning: \n",
      "A value is trying to be set on a copy of a slice from a DataFrame.\n",
      "Try using .loc[row_indexer,col_indexer] = value instead\n",
      "\n",
      "See the caveats in the documentation: http://pandas.pydata.org/pandas-docs/stable/user_guide/indexing.html#returning-a-view-versus-a-copy\n",
      "/data/gl/g1/jhammelm/env/miniconda3/envs/jupyter-cpu/lib/python3.6/site-packages/ipykernel_launcher.py:22: SettingWithCopyWarning: \n",
      "A value is trying to be set on a copy of a slice from a DataFrame.\n",
      "Try using .loc[row_indexer,col_indexer] = value instead\n",
      "\n",
      "See the caveats in the documentation: http://pandas.pydata.org/pandas-docs/stable/user_guide/indexing.html#returning-a-view-versus-a-copy\n"
     ]
    },
    {
     "name": "stdout",
     "output_type": "stream",
     "text": [
      "0 train n= 685 test n= 356\n"
     ]
    },
    {
     "name": "stderr",
     "output_type": "stream",
     "text": [
      "/data/gl/g1/jhammelm/env/miniconda3/envs/jupyter-cpu/lib/python3.6/site-packages/pandas/core/computation/expressions.py:193: UserWarning: evaluating in Python space because the '*' operator is not supported by numexpr for the bool dtype, use '&' instead\n",
      "  op=op_str, alt_op=unsupported[op_str]\n"
     ]
    },
    {
     "name": "stdout",
     "output_type": "stream",
     "text": [
      "1 train n= 695 test n= 346\n"
     ]
    },
    {
     "name": "stderr",
     "output_type": "stream",
     "text": [
      "/data/gl/g1/jhammelm/env/miniconda3/envs/jupyter-cpu/lib/python3.6/site-packages/numpy/core/fromnumeric.py:2389: FutureWarning: Method .ptp is deprecated and will be removed in a future version. Use numpy.ptp instead.\n",
      "  return ptp(axis=axis, out=out, **kwargs)\n",
      "/data/gl/g1/jhammelm/env/miniconda3/envs/jupyter-cpu/lib/python3.6/site-packages/pandas/core/computation/expressions.py:193: UserWarning: evaluating in Python space because the '*' operator is not supported by numexpr for the bool dtype, use '&' instead\n",
      "  op=op_str, alt_op=unsupported[op_str]\n"
     ]
    },
    {
     "name": "stdout",
     "output_type": "stream",
     "text": [
      "2 train n= 686 test n= 355\n"
     ]
    },
    {
     "name": "stderr",
     "output_type": "stream",
     "text": [
      "/data/gl/g1/jhammelm/env/miniconda3/envs/jupyter-cpu/lib/python3.6/site-packages/numpy/core/fromnumeric.py:2389: FutureWarning: Method .ptp is deprecated and will be removed in a future version. Use numpy.ptp instead.\n",
      "  return ptp(axis=axis, out=out, **kwargs)\n",
      "/data/gl/g1/jhammelm/env/miniconda3/envs/jupyter-cpu/lib/python3.6/site-packages/pandas/core/computation/expressions.py:193: UserWarning: evaluating in Python space because the '*' operator is not supported by numexpr for the bool dtype, use '&' instead\n",
      "  op=op_str, alt_op=unsupported[op_str]\n"
     ]
    },
    {
     "name": "stdout",
     "output_type": "stream",
     "text": [
      "3 train n= 694 test n= 347\n"
     ]
    },
    {
     "name": "stderr",
     "output_type": "stream",
     "text": [
      "/data/gl/g1/jhammelm/env/miniconda3/envs/jupyter-cpu/lib/python3.6/site-packages/numpy/core/fromnumeric.py:2389: FutureWarning: Method .ptp is deprecated and will be removed in a future version. Use numpy.ptp instead.\n",
      "  return ptp(axis=axis, out=out, **kwargs)\n",
      "/data/gl/g1/jhammelm/env/miniconda3/envs/jupyter-cpu/lib/python3.6/site-packages/pandas/core/computation/expressions.py:193: UserWarning: evaluating in Python space because the '*' operator is not supported by numexpr for the bool dtype, use '&' instead\n",
      "  op=op_str, alt_op=unsupported[op_str]\n"
     ]
    },
    {
     "name": "stdout",
     "output_type": "stream",
     "text": [
      "4 train n= 695 test n= 346\n"
     ]
    },
    {
     "name": "stderr",
     "output_type": "stream",
     "text": [
      "/data/gl/g1/jhammelm/env/miniconda3/envs/jupyter-cpu/lib/python3.6/site-packages/numpy/core/fromnumeric.py:2389: FutureWarning: Method .ptp is deprecated and will be removed in a future version. Use numpy.ptp instead.\n",
      "  return ptp(axis=axis, out=out, **kwargs)\n",
      "/data/gl/g1/jhammelm/env/miniconda3/envs/jupyter-cpu/lib/python3.6/site-packages/pandas/core/computation/expressions.py:193: UserWarning: evaluating in Python space because the '*' operator is not supported by numexpr for the bool dtype, use '&' instead\n",
      "  op=op_str, alt_op=unsupported[op_str]\n"
     ]
    },
    {
     "name": "stdout",
     "output_type": "stream",
     "text": [
      "5 train n= 690 test n= 351\n"
     ]
    },
    {
     "name": "stderr",
     "output_type": "stream",
     "text": [
      "/data/gl/g1/jhammelm/env/miniconda3/envs/jupyter-cpu/lib/python3.6/site-packages/numpy/core/fromnumeric.py:2389: FutureWarning: Method .ptp is deprecated and will be removed in a future version. Use numpy.ptp instead.\n",
      "  return ptp(axis=axis, out=out, **kwargs)\n",
      "/data/gl/g1/jhammelm/env/miniconda3/envs/jupyter-cpu/lib/python3.6/site-packages/pandas/core/computation/expressions.py:193: UserWarning: evaluating in Python space because the '*' operator is not supported by numexpr for the bool dtype, use '&' instead\n",
      "  op=op_str, alt_op=unsupported[op_str]\n"
     ]
    },
    {
     "name": "stdout",
     "output_type": "stream",
     "text": [
      "6 train n= 690 test n= 351\n"
     ]
    },
    {
     "name": "stderr",
     "output_type": "stream",
     "text": [
      "/data/gl/g1/jhammelm/env/miniconda3/envs/jupyter-cpu/lib/python3.6/site-packages/numpy/core/fromnumeric.py:2389: FutureWarning: Method .ptp is deprecated and will be removed in a future version. Use numpy.ptp instead.\n",
      "  return ptp(axis=axis, out=out, **kwargs)\n",
      "/data/gl/g1/jhammelm/env/miniconda3/envs/jupyter-cpu/lib/python3.6/site-packages/pandas/core/computation/expressions.py:193: UserWarning: evaluating in Python space because the '*' operator is not supported by numexpr for the bool dtype, use '&' instead\n",
      "  op=op_str, alt_op=unsupported[op_str]\n"
     ]
    },
    {
     "name": "stdout",
     "output_type": "stream",
     "text": [
      "7 train n= 702 test n= 339\n"
     ]
    },
    {
     "name": "stderr",
     "output_type": "stream",
     "text": [
      "/data/gl/g1/jhammelm/env/miniconda3/envs/jupyter-cpu/lib/python3.6/site-packages/numpy/core/fromnumeric.py:2389: FutureWarning: Method .ptp is deprecated and will be removed in a future version. Use numpy.ptp instead.\n",
      "  return ptp(axis=axis, out=out, **kwargs)\n",
      "/data/gl/g1/jhammelm/env/miniconda3/envs/jupyter-cpu/lib/python3.6/site-packages/pandas/core/computation/expressions.py:193: UserWarning: evaluating in Python space because the '*' operator is not supported by numexpr for the bool dtype, use '&' instead\n",
      "  op=op_str, alt_op=unsupported[op_str]\n"
     ]
    },
    {
     "name": "stdout",
     "output_type": "stream",
     "text": [
      "8 train n= 696 test n= 345\n"
     ]
    },
    {
     "name": "stderr",
     "output_type": "stream",
     "text": [
      "/data/gl/g1/jhammelm/env/miniconda3/envs/jupyter-cpu/lib/python3.6/site-packages/numpy/core/fromnumeric.py:2389: FutureWarning: Method .ptp is deprecated and will be removed in a future version. Use numpy.ptp instead.\n",
      "  return ptp(axis=axis, out=out, **kwargs)\n",
      "/data/gl/g1/jhammelm/env/miniconda3/envs/jupyter-cpu/lib/python3.6/site-packages/pandas/core/computation/expressions.py:193: UserWarning: evaluating in Python space because the '*' operator is not supported by numexpr for the bool dtype, use '&' instead\n",
      "  op=op_str, alt_op=unsupported[op_str]\n"
     ]
    },
    {
     "name": "stdout",
     "output_type": "stream",
     "text": [
      "9 train n= 694 test n= 347\n"
     ]
    },
    {
     "name": "stderr",
     "output_type": "stream",
     "text": [
      "/data/gl/g1/jhammelm/env/miniconda3/envs/jupyter-cpu/lib/python3.6/site-packages/numpy/core/fromnumeric.py:2389: FutureWarning: Method .ptp is deprecated and will be removed in a future version. Use numpy.ptp instead.\n",
      "  return ptp(axis=axis, out=out, **kwargs)\n",
      "/data/gl/g1/jhammelm/env/miniconda3/envs/jupyter-cpu/lib/python3.6/site-packages/pandas/core/computation/expressions.py:193: UserWarning: evaluating in Python space because the '*' operator is not supported by numexpr for the bool dtype, use '&' instead\n",
      "  op=op_str, alt_op=unsupported[op_str]\n"
     ]
    },
    {
     "name": "stdout",
     "output_type": "stream",
     "text": [
      "10 train n= 700 test n= 341\n"
     ]
    },
    {
     "name": "stderr",
     "output_type": "stream",
     "text": [
      "/data/gl/g1/jhammelm/env/miniconda3/envs/jupyter-cpu/lib/python3.6/site-packages/numpy/core/fromnumeric.py:2389: FutureWarning: Method .ptp is deprecated and will be removed in a future version. Use numpy.ptp instead.\n",
      "  return ptp(axis=axis, out=out, **kwargs)\n",
      "/data/gl/g1/jhammelm/env/miniconda3/envs/jupyter-cpu/lib/python3.6/site-packages/pandas/core/computation/expressions.py:193: UserWarning: evaluating in Python space because the '*' operator is not supported by numexpr for the bool dtype, use '&' instead\n",
      "  op=op_str, alt_op=unsupported[op_str]\n"
     ]
    },
    {
     "name": "stdout",
     "output_type": "stream",
     "text": [
      "11 train n= 690 test n= 351\n"
     ]
    },
    {
     "name": "stderr",
     "output_type": "stream",
     "text": [
      "/data/gl/g1/jhammelm/env/miniconda3/envs/jupyter-cpu/lib/python3.6/site-packages/numpy/core/fromnumeric.py:2389: FutureWarning: Method .ptp is deprecated and will be removed in a future version. Use numpy.ptp instead.\n",
      "  return ptp(axis=axis, out=out, **kwargs)\n",
      "/data/gl/g1/jhammelm/env/miniconda3/envs/jupyter-cpu/lib/python3.6/site-packages/pandas/core/computation/expressions.py:193: UserWarning: evaluating in Python space because the '*' operator is not supported by numexpr for the bool dtype, use '&' instead\n",
      "  op=op_str, alt_op=unsupported[op_str]\n"
     ]
    },
    {
     "name": "stdout",
     "output_type": "stream",
     "text": [
      "12 train n= 694 test n= 347\n"
     ]
    },
    {
     "name": "stderr",
     "output_type": "stream",
     "text": [
      "/data/gl/g1/jhammelm/env/miniconda3/envs/jupyter-cpu/lib/python3.6/site-packages/numpy/core/fromnumeric.py:2389: FutureWarning: Method .ptp is deprecated and will be removed in a future version. Use numpy.ptp instead.\n",
      "  return ptp(axis=axis, out=out, **kwargs)\n",
      "/data/gl/g1/jhammelm/env/miniconda3/envs/jupyter-cpu/lib/python3.6/site-packages/pandas/core/computation/expressions.py:193: UserWarning: evaluating in Python space because the '*' operator is not supported by numexpr for the bool dtype, use '&' instead\n",
      "  op=op_str, alt_op=unsupported[op_str]\n"
     ]
    },
    {
     "name": "stdout",
     "output_type": "stream",
     "text": [
      "13 train n= 697 test n= 344\n"
     ]
    },
    {
     "name": "stderr",
     "output_type": "stream",
     "text": [
      "/data/gl/g1/jhammelm/env/miniconda3/envs/jupyter-cpu/lib/python3.6/site-packages/numpy/core/fromnumeric.py:2389: FutureWarning: Method .ptp is deprecated and will be removed in a future version. Use numpy.ptp instead.\n",
      "  return ptp(axis=axis, out=out, **kwargs)\n",
      "/data/gl/g1/jhammelm/env/miniconda3/envs/jupyter-cpu/lib/python3.6/site-packages/pandas/core/computation/expressions.py:193: UserWarning: evaluating in Python space because the '*' operator is not supported by numexpr for the bool dtype, use '&' instead\n",
      "  op=op_str, alt_op=unsupported[op_str]\n"
     ]
    },
    {
     "name": "stdout",
     "output_type": "stream",
     "text": [
      "14 train n= 692 test n= 349\n"
     ]
    },
    {
     "name": "stderr",
     "output_type": "stream",
     "text": [
      "/data/gl/g1/jhammelm/env/miniconda3/envs/jupyter-cpu/lib/python3.6/site-packages/numpy/core/fromnumeric.py:2389: FutureWarning: Method .ptp is deprecated and will be removed in a future version. Use numpy.ptp instead.\n",
      "  return ptp(axis=axis, out=out, **kwargs)\n",
      "/data/gl/g1/jhammelm/env/miniconda3/envs/jupyter-cpu/lib/python3.6/site-packages/pandas/core/computation/expressions.py:193: UserWarning: evaluating in Python space because the '*' operator is not supported by numexpr for the bool dtype, use '&' instead\n",
      "  op=op_str, alt_op=unsupported[op_str]\n"
     ]
    },
    {
     "name": "stdout",
     "output_type": "stream",
     "text": [
      "15 train n= 692 test n= 349\n"
     ]
    },
    {
     "name": "stderr",
     "output_type": "stream",
     "text": [
      "/data/gl/g1/jhammelm/env/miniconda3/envs/jupyter-cpu/lib/python3.6/site-packages/numpy/core/fromnumeric.py:2389: FutureWarning: Method .ptp is deprecated and will be removed in a future version. Use numpy.ptp instead.\n",
      "  return ptp(axis=axis, out=out, **kwargs)\n",
      "/data/gl/g1/jhammelm/env/miniconda3/envs/jupyter-cpu/lib/python3.6/site-packages/pandas/core/computation/expressions.py:193: UserWarning: evaluating in Python space because the '*' operator is not supported by numexpr for the bool dtype, use '&' instead\n",
      "  op=op_str, alt_op=unsupported[op_str]\n"
     ]
    },
    {
     "name": "stdout",
     "output_type": "stream",
     "text": [
      "16 train n= 693 test n= 348\n"
     ]
    },
    {
     "name": "stderr",
     "output_type": "stream",
     "text": [
      "/data/gl/g1/jhammelm/env/miniconda3/envs/jupyter-cpu/lib/python3.6/site-packages/numpy/core/fromnumeric.py:2389: FutureWarning: Method .ptp is deprecated and will be removed in a future version. Use numpy.ptp instead.\n",
      "  return ptp(axis=axis, out=out, **kwargs)\n",
      "/data/gl/g1/jhammelm/env/miniconda3/envs/jupyter-cpu/lib/python3.6/site-packages/pandas/core/computation/expressions.py:193: UserWarning: evaluating in Python space because the '*' operator is not supported by numexpr for the bool dtype, use '&' instead\n",
      "  op=op_str, alt_op=unsupported[op_str]\n"
     ]
    },
    {
     "name": "stdout",
     "output_type": "stream",
     "text": [
      "17 train n= 695 test n= 346\n"
     ]
    },
    {
     "name": "stderr",
     "output_type": "stream",
     "text": [
      "/data/gl/g1/jhammelm/env/miniconda3/envs/jupyter-cpu/lib/python3.6/site-packages/numpy/core/fromnumeric.py:2389: FutureWarning: Method .ptp is deprecated and will be removed in a future version. Use numpy.ptp instead.\n",
      "  return ptp(axis=axis, out=out, **kwargs)\n",
      "/data/gl/g1/jhammelm/env/miniconda3/envs/jupyter-cpu/lib/python3.6/site-packages/pandas/core/computation/expressions.py:193: UserWarning: evaluating in Python space because the '*' operator is not supported by numexpr for the bool dtype, use '&' instead\n",
      "  op=op_str, alt_op=unsupported[op_str]\n"
     ]
    },
    {
     "name": "stdout",
     "output_type": "stream",
     "text": [
      "18 train n= 703 test n= 338\n"
     ]
    },
    {
     "name": "stderr",
     "output_type": "stream",
     "text": [
      "/data/gl/g1/jhammelm/env/miniconda3/envs/jupyter-cpu/lib/python3.6/site-packages/numpy/core/fromnumeric.py:2389: FutureWarning: Method .ptp is deprecated and will be removed in a future version. Use numpy.ptp instead.\n",
      "  return ptp(axis=axis, out=out, **kwargs)\n",
      "/data/gl/g1/jhammelm/env/miniconda3/envs/jupyter-cpu/lib/python3.6/site-packages/pandas/core/computation/expressions.py:193: UserWarning: evaluating in Python space because the '*' operator is not supported by numexpr for the bool dtype, use '&' instead\n",
      "  op=op_str, alt_op=unsupported[op_str]\n"
     ]
    },
    {
     "name": "stdout",
     "output_type": "stream",
     "text": [
      "19 train n= 689 test n= 352\n"
     ]
    },
    {
     "name": "stderr",
     "output_type": "stream",
     "text": [
      "/data/gl/g1/jhammelm/env/miniconda3/envs/jupyter-cpu/lib/python3.6/site-packages/numpy/core/fromnumeric.py:2389: FutureWarning: Method .ptp is deprecated and will be removed in a future version. Use numpy.ptp instead.\n",
      "  return ptp(axis=axis, out=out, **kwargs)\n",
      "/data/gl/g1/jhammelm/env/miniconda3/envs/jupyter-cpu/lib/python3.6/site-packages/pandas/core/computation/expressions.py:193: UserWarning: evaluating in Python space because the '*' operator is not supported by numexpr for the bool dtype, use '&' instead\n",
      "  op=op_str, alt_op=unsupported[op_str]\n"
     ]
    },
    {
     "name": "stdout",
     "output_type": "stream",
     "text": [
      "20 train n= 692 test n= 349\n"
     ]
    },
    {
     "name": "stderr",
     "output_type": "stream",
     "text": [
      "/data/gl/g1/jhammelm/env/miniconda3/envs/jupyter-cpu/lib/python3.6/site-packages/numpy/core/fromnumeric.py:2389: FutureWarning: Method .ptp is deprecated and will be removed in a future version. Use numpy.ptp instead.\n",
      "  return ptp(axis=axis, out=out, **kwargs)\n",
      "/data/gl/g1/jhammelm/env/miniconda3/envs/jupyter-cpu/lib/python3.6/site-packages/pandas/core/computation/expressions.py:193: UserWarning: evaluating in Python space because the '*' operator is not supported by numexpr for the bool dtype, use '&' instead\n",
      "  op=op_str, alt_op=unsupported[op_str]\n"
     ]
    },
    {
     "name": "stdout",
     "output_type": "stream",
     "text": [
      "21 train n= 696 test n= 345\n"
     ]
    },
    {
     "name": "stderr",
     "output_type": "stream",
     "text": [
      "/data/gl/g1/jhammelm/env/miniconda3/envs/jupyter-cpu/lib/python3.6/site-packages/numpy/core/fromnumeric.py:2389: FutureWarning: Method .ptp is deprecated and will be removed in a future version. Use numpy.ptp instead.\n",
      "  return ptp(axis=axis, out=out, **kwargs)\n",
      "/data/gl/g1/jhammelm/env/miniconda3/envs/jupyter-cpu/lib/python3.6/site-packages/pandas/core/computation/expressions.py:193: UserWarning: evaluating in Python space because the '*' operator is not supported by numexpr for the bool dtype, use '&' instead\n",
      "  op=op_str, alt_op=unsupported[op_str]\n"
     ]
    },
    {
     "name": "stdout",
     "output_type": "stream",
     "text": [
      "22 train n= 694 test n= 347\n"
     ]
    },
    {
     "name": "stderr",
     "output_type": "stream",
     "text": [
      "/data/gl/g1/jhammelm/env/miniconda3/envs/jupyter-cpu/lib/python3.6/site-packages/numpy/core/fromnumeric.py:2389: FutureWarning: Method .ptp is deprecated and will be removed in a future version. Use numpy.ptp instead.\n",
      "  return ptp(axis=axis, out=out, **kwargs)\n",
      "/data/gl/g1/jhammelm/env/miniconda3/envs/jupyter-cpu/lib/python3.6/site-packages/pandas/core/computation/expressions.py:193: UserWarning: evaluating in Python space because the '*' operator is not supported by numexpr for the bool dtype, use '&' instead\n",
      "  op=op_str, alt_op=unsupported[op_str]\n"
     ]
    },
    {
     "name": "stdout",
     "output_type": "stream",
     "text": [
      "23 train n= 696 test n= 345\n"
     ]
    },
    {
     "name": "stderr",
     "output_type": "stream",
     "text": [
      "/data/gl/g1/jhammelm/env/miniconda3/envs/jupyter-cpu/lib/python3.6/site-packages/numpy/core/fromnumeric.py:2389: FutureWarning: Method .ptp is deprecated and will be removed in a future version. Use numpy.ptp instead.\n",
      "  return ptp(axis=axis, out=out, **kwargs)\n",
      "/data/gl/g1/jhammelm/env/miniconda3/envs/jupyter-cpu/lib/python3.6/site-packages/pandas/core/computation/expressions.py:193: UserWarning: evaluating in Python space because the '*' operator is not supported by numexpr for the bool dtype, use '&' instead\n",
      "  op=op_str, alt_op=unsupported[op_str]\n"
     ]
    },
    {
     "name": "stdout",
     "output_type": "stream",
     "text": [
      "24 train n= 701 test n= 340\n"
     ]
    },
    {
     "name": "stderr",
     "output_type": "stream",
     "text": [
      "/data/gl/g1/jhammelm/env/miniconda3/envs/jupyter-cpu/lib/python3.6/site-packages/numpy/core/fromnumeric.py:2389: FutureWarning: Method .ptp is deprecated and will be removed in a future version. Use numpy.ptp instead.\n",
      "  return ptp(axis=axis, out=out, **kwargs)\n",
      "/data/gl/g1/jhammelm/env/miniconda3/envs/jupyter-cpu/lib/python3.6/site-packages/pandas/core/computation/expressions.py:193: UserWarning: evaluating in Python space because the '*' operator is not supported by numexpr for the bool dtype, use '&' instead\n",
      "  op=op_str, alt_op=unsupported[op_str]\n"
     ]
    },
    {
     "data": {
      "image/png": "[encoded data removed]",
      "text/plain": [
       "<Figure size 432x288 with 1 Axes>"
      ]
     },
     "metadata": {
      "needs_background": "light"
     },
     "output_type": "display_data"
    }
   ],
   "source": [
    "with open('/data/gl/g1/jhammelm/projects/SLOT/libraryv3_analysis/background_random_sample_pioneer_nonlinear_analysis.pkl','rb') as f:\n",
    "    #sampled bgs generated from np.random.choice and saved so subsequent analysis\n",
    "    #remains consistent\n",
    "    sampled_bgs = pickle.load(f)\n",
    "    \n",
    "tf_combos = [c for c in all_cats if (len(c.split(','))==2)\n",
    "            and (('oct4' in c) or ('sox2' in c) or ('klf4' in c))]\n",
    "tf_combos.extend([c for c in all_cats if (len(c.split(','))==3)\n",
    "            and (('oct4' in c) or ('sox2' in c) or ('klf4' in c))])\n",
    "tf_combos.extend([c for c in all_cats if (len(c.split(','))==2)\n",
    "            and (('foxa2' in c) or ('sox17' in c) or ('gata4' in c))])\n",
    "tf_combos.extend([c for c in all_cats if (len(c.split(','))==3)\n",
    "            and (('foxa2' in c) or ('sox17' in c) or ('gata4' in c))])\n",
    "\n",
    "keep = df[df['tf'].isin([c for c in set(df['tf']) \n",
    "                                      if (('oct4' in c) or ('sox2' in c) or ('klf4' in c)\n",
    "                                         or ('sox17' in c) or ('gata4' in c) or ('foxa2' in c))])]\n",
    "keep['gc.content'] = [(s.count('G')+s.count('C'))/float(len(s)) for s in keep.seq]\n",
    "keep['nmotifs'] = [len(c.split(',')) for c in keep['tf']]\n",
    "keep['nunique'] = [len(set(c.split(','))) for c in keep['tf']]\n",
    "keep['ed.average'] = keep['ED Dpn ratio']\n",
    "keep['es.average'] = keep['ES Dpn ratio']\n",
    "\n",
    "train_norm = keep\n",
    "bgs = list(set(train_norm.background))\n",
    "explained_variance = {'model':[],'eval':[],'es_eval':[],'ed_eval':[],'k':[]}\n",
    "kmer_ev = {'tfset':[],'model':[],'eval':[],'es_eval':[],'ed_eval':[],'rep':[]}\n",
    "saved_models = {'ESC':[],'DE':[]}\n",
    "#sampled_bgs=[]\n",
    "for k in range(25):\n",
    "    #bgkeep = np.random.choice(bgs,6,replace=False)\n",
    "    #sampled_bgs.append(bgkeep)\n",
    "    bgkeep = sampled_bgs[k]\n",
    "    train_set = train_norm[train_norm['background'].isin(bgkeep)]\n",
    "    test_set = train_norm[~train_norm['background'].isin(bgkeep)]\n",
    "    print(k,'train n=',len(train_set),'test n=',len(test_set))\n",
    "    gc_pred_ed,gc_glm,_ = gc_model(train_set,test_set,train_set['ed.average'])\n",
    "    additive_pred_ed,additive_glm,additive_vars = additive_kmer_model(train_set,test_set,\n",
    "                                                                   train_set['ed.average'])\n",
    "    \n",
    "    multiplicative_pred_ed,multiplicative_glm,multiplicative_vars = additive_kmer_model(train_set,test_set,\n",
    "                                                                   np.log10(train_set['ed.average']))\n",
    "    conditional_pred_ed,conditional_glm,conditional_vars = conditional_kmer_model(train_set,test_set,\n",
    "                                                                   train_set['ed.average'])\n",
    "    saved_models['DE'].append({'additive':additive_glm,\n",
    "                                'GC':gc_glm,\n",
    "                                'conditional':conditional_glm,\n",
    "                                'multiplicative':multiplicative_glm})\n",
    "    \n",
    "    gc_pred_es,gc_glm,_ = gc_model(train_set,test_set,train_set['es.average'])\n",
    "    additive_pred_es,additive_glm,additive_vars = additive_kmer_model(train_set,test_set,\n",
    "                                                                   train_set['es.average'])\n",
    "    multiplicative_pred_es,multiplicative_glm,multiplicative_vars = additive_kmer_model(train_set,test_set,\n",
    "                                                                   np.log10(train_set['es.average']))\n",
    "    conditional_pred_es,conditional_glm,conditional_vars = conditional_kmer_model(train_set,test_set,\n",
    "                                                                   train_set['es.average'])\n",
    "    saved_models['ESC'].append({'additive':additive_glm,\n",
    "                                'GC':gc_glm,\n",
    "                                'conditional':conditional_glm,\n",
    "                                'multiplicative':multiplicative_glm})\n",
    "    explained_variance['model'].extend(['GC','additive','multiplicative','conditional'])\n",
    "    explained_variance['eval'].extend([explained_variance_score((test_set['ed.average']-test_set['es.average']),\n",
    "                                        (gc_pred_ed-gc_pred_es)),\n",
    "                              explained_variance_score((test_set['ed.average']-test_set['es.average']),\n",
    "                                        (additive_pred_ed-additive_pred_es)),\n",
    "                              explained_variance_score((test_set['ed.average']-test_set['es.average']),\n",
    "                                        10**multiplicative_pred_ed - 10**multiplicative_pred_es),\n",
    "                              explained_variance_score((test_set['ed.average']-test_set['es.average']),\n",
    "                                        (conditional_pred_ed-conditional_pred_es))])\n",
    "    explained_variance['es_eval'].extend([explained_variance_score((test_set['es.average']),\n",
    "                                        (gc_pred_es)),\n",
    "                              explained_variance_score((test_set['es.average']),\n",
    "                                        (additive_pred_es)),\n",
    "                              explained_variance_score((test_set['es.average']),\n",
    "                                        10**multiplicative_pred_es),\n",
    "                              explained_variance_score((test_set['es.average']),\n",
    "                                        (conditional_pred_es))])\n",
    "    explained_variance['ed_eval'].extend([explained_variance_score((test_set['ed.average']),\n",
    "                                        (gc_pred_ed)),\n",
    "                              explained_variance_score((test_set['ed.average']),\n",
    "                                        (additive_pred_ed)),\n",
    "                              explained_variance_score((test_set['ed.average']),\n",
    "                                        10**multiplicative_pred_ed),\n",
    "                              explained_variance_score((test_set['ed.average']),\n",
    "                                        (conditional_pred_ed))])\n",
    "    \n",
    "    plot_scatter((test_set['ed.average']-test_set['es.average']),\n",
    "                                        (gc_pred_ed-gc_pred_es))\n",
    "    explained_variance['k'].extend([k for _ in range(4)])\n",
    "    for tfset in all_cats:\n",
    "        test_set_kmer = test_set[(test_set['tf'] == tfset) & (test_set['control'] == 'motif')]\n",
    "        kmer_mask = (test_set['tf'] == tfset) & (test_set['control'] == 'motif')\n",
    "        if np.sum(kmer_mask) == 0:\n",
    "            continue\n",
    "        kmer_ev['tfset'].extend([tfset,tfset,tfset,tfset])\n",
    "        kmer_ev['model'].extend(['GC','additive','multiplicative','conditional'])\n",
    "        kmer_ev['eval'].extend([mean_squared_error((test_set_kmer['ed.average']-test_set_kmer['es.average']),\n",
    "                                        (gc_pred_ed[kmer_mask]-gc_pred_es[kmer_mask])),\n",
    "                              mean_squared_error((test_set_kmer['ed.average']-test_set_kmer['es.average']),\n",
    "                                        (additive_pred_ed[kmer_mask]-additive_pred_es[kmer_mask])),\n",
    "                              mean_squared_error((test_set_kmer['ed.average']-test_set_kmer['es.average']),\n",
    "                                        10**multiplicative_pred_ed[kmer_mask] - 10**multiplicative_pred_es[kmer_mask]),\n",
    "                              mean_squared_error((test_set_kmer['ed.average']-test_set_kmer['es.average']),\n",
    "                                        (conditional_pred_ed[kmer_mask]-conditional_pred_es[kmer_mask]))])\n",
    "        kmer_ev['es_eval'].extend([mean_squared_error(test_set_kmer['es.average'],\n",
    "                                        gc_pred_es[kmer_mask]),\n",
    "                              mean_squared_error(test_set_kmer['es.average'],\n",
    "                                        additive_pred_es[kmer_mask]),\n",
    "                              mean_squared_error((test_set_kmer['es.average']),\n",
    "                                                 10**multiplicative_pred_es[kmer_mask]),\n",
    "                              mean_squared_error(test_set_kmer['es.average'],\n",
    "                                        conditional_pred_es[kmer_mask])])\n",
    "        kmer_ev['ed_eval'].extend([mean_squared_error(test_set_kmer['ed.average'],\n",
    "                                        gc_pred_ed[kmer_mask]),\n",
    "                              mean_squared_error(test_set_kmer['ed.average'],\n",
    "                                        additive_pred_ed[kmer_mask]),\n",
    "                              mean_squared_error((test_set_kmer['ed.average']),\n",
    "                                                10**multiplicative_pred_ed[kmer_mask]),\n",
    "                              mean_squared_error(test_set_kmer['ed.average'],\n",
    "                                        conditional_pred_ed[kmer_mask])])\n",
    "        \n",
    "        kmer_ev['rep'].extend([k,k,k,k])"
   ]
  },
  {
   "cell_type": "code",
   "execution_count": 51,
   "metadata": {},
   "outputs": [
    {
     "name": "stdout",
     "output_type": "stream",
     "text": [
      "0.8994196783399859 0.9999548890863583 6.128468010809964e-06\n",
      "0.7784447059652801 0.5588318151271443 6.128468010809964e-06\n",
      "0.9956520044046652 0.9999938715319892 2.560443548752839e-05\n"
     ]
    },
    {
     "data": {
      "image/png": "[encoded data removed]",
      "text/plain": [
       "<Figure size 1296x576 with 3 Axes>"
      ]
     },
     "metadata": {
      "needs_background": "light"
     },
     "output_type": "display_data"
    }
   ],
   "source": [
    "evaldf = pd.DataFrame(explained_variance)\n",
    "\n",
    "sns.set_context('notebook',font_scale=1.5)\n",
    "plt.figure(figsize=(18,8))\n",
    "plt.subplot(1,3,1)\n",
    "g = sns.swarmplot(x='model',y='es_eval',data=evaldf,color='black')\n",
    "plt.setp(g.get_xticklabels(), ha=\"right\", rotation=45)\n",
    "plt.ylabel('explained variance')\n",
    "eval_pivot = evaldf.pivot_table(index=['k'],columns=['model'],values=['es_eval'])\n",
    "test1 = wilcoxon(eval_pivot['es_eval'].conditional,eval_pivot['es_eval'].additive,alternative='greater')[1]\n",
    "test2 = wilcoxon(eval_pivot['es_eval'].multiplicative,eval_pivot['es_eval'].additive,alternative='greater')[1]\n",
    "test3 = wilcoxon(eval_pivot['es_eval'].additive,eval_pivot['es_eval'].GC,alternative='greater')[1]\n",
    "\n",
    "plt.xlabel('')\n",
    "def ptostar(pval):\n",
    "    p1 = 'n.s.'\n",
    "    if pval < 0.05:\n",
    "        p1 = '*'\n",
    "    if pval < 0.01:\n",
    "        p1 = '**'\n",
    "    if pval < 0.001:\n",
    "        p1 = '***'\n",
    "    return p1\n",
    "p1 = ptostar(test1)\n",
    "p2 = ptostar(test2)\n",
    "p3 = ptostar(test3)\n",
    "print(test1,test2,test3)\n",
    "dist1=0.05\n",
    "dist2=0.2\n",
    "x1,x2 = 1,3\n",
    "y, h, col = eval_pivot['es_eval'].conditional.max() + 0.2, dist1, 'k'\n",
    "plt.plot([x1, x1, x2, x2], [y, y+h, y+h, y], lw=1.5, c=col)\n",
    "plt.text((x1+x2)*0.5, y+h, p1, ha='center', va='bottom', color=col)\n",
    "x1,x2 = 1,2\n",
    "y, h, col = eval_pivot['es_eval'].multiplicative.max() + 0.10, dist1, 'k'\n",
    "plt.plot([x1, x1, x2, x2], [y, y+h, y+h, y], lw=1.5, c=col)\n",
    "plt.text((x1+x2)*0.5, y+h, p2, ha='center', va='bottom', color=col)\n",
    "x1,x2 = 0,1\n",
    "y, h, col = eval_pivot['es_eval'].additive.max() + 0.1, dist1, 'k'\n",
    "plt.plot([x1, x1, x2, x2], [y, y+h, y+h, y], lw=1.5, c=col)\n",
    "plt.text((x1+x2)*0.5, y+h, p3, ha='center', va='bottom', color=col)\n",
    "plt.xlabel('')\n",
    "plt.axis([-0.5,3.5,0,1.0])\n",
    "\n",
    "plt.title('Stem Cell Accessibility')\n",
    "plt.tight_layout()\n",
    "\n",
    "plt.subplot(1,3,2)\n",
    "g = sns.swarmplot(x='model',y='ed_eval',data=evaldf,color='black')\n",
    "plt.setp(g.get_xticklabels(), ha=\"right\", rotation=45)\n",
    "plt.ylabel('explained variance')\n",
    "plt.xlabel('')\n",
    "eval_pivot = evaldf.pivot_table(index=['k'],columns=['model'],values=['ed_eval'])\n",
    "test1 = wilcoxon(eval_pivot['ed_eval'].conditional,eval_pivot['ed_eval'].additive,alternative='greater')[1]\n",
    "test2 = wilcoxon(eval_pivot['ed_eval'].multiplicative,eval_pivot['ed_eval'].additive,alternative='greater')[1]\n",
    "test3 = wilcoxon(eval_pivot['ed_eval'].additive,eval_pivot['ed_eval'].GC,alternative='greater')[1]\n",
    "\n",
    "plt.xlabel('')\n",
    "def ptostar(pval):\n",
    "    p1 = 'n.s.'\n",
    "    if pval < 0.05:\n",
    "        p1 = '*'\n",
    "    if pval < 0.01:\n",
    "        p1 = '**'\n",
    "    if pval < 0.001:\n",
    "        p1 = '***'\n",
    "    return p1\n",
    "p1 = ptostar(test1)\n",
    "p2 = ptostar(test2)\n",
    "p3 = ptostar(test3)\n",
    "print(test1,test2,test3)\n",
    "dist1=0.05\n",
    "dist2=0.2\n",
    "x1,x2 = 1,3\n",
    "y, h, col = eval_pivot['ed_eval'].conditional.max() + 0.2, dist1, 'k'\n",
    "plt.plot([x1, x1, x2, x2], [y, y+h, y+h, y], lw=1.5, c=col)\n",
    "plt.text((x1+x2)*0.5, y+h, p1, ha='center', va='bottom', color=col)\n",
    "x1,x2 = 1,2\n",
    "y, h, col = eval_pivot['ed_eval'].multiplicative.max() + 0.1, dist1, 'k'\n",
    "plt.plot([x1, x1, x2, x2], [y, y+h, y+h, y], lw=1.5, c=col)\n",
    "plt.text((x1+x2)*0.5, y+h, p2, ha='center', va='bottom', color=col)\n",
    "x1,x2 = 0,1\n",
    "y, h, col = eval_pivot['ed_eval'].additive.max() + 0.1, dist1, 'k'\n",
    "plt.plot([x1, x1, x2, x2], [y, y+h, y+h, y], lw=1.5, c=col)\n",
    "plt.text((x1+x2)*0.5, y+h, p3, ha='center', va='bottom', color=col)\n",
    "plt.xlabel('')\n",
    "plt.axis([-0.5,3.5,0,1.0])\n",
    "\n",
    "\n",
    "plt.title('Definitive Endoderm Accessibility')\n",
    "plt.subplot(1,3,3)\n",
    "g = sns.swarmplot(x='model',y='eval',data=evaldf,color='black')\n",
    "plt.tight_layout()\n",
    "\n",
    "plt.setp(g.get_xticklabels(), ha=\"right\", rotation=45)\n",
    "plt.ylabel('explained variance')\n",
    "plt.xlabel('')\n",
    "\n",
    "eval_pivot = evaldf.pivot_table(index=['k'],columns=['model'],values=['eval'])\n",
    "test1 = wilcoxon(eval_pivot['eval'].conditional,eval_pivot['eval'].additive,alternative='greater')[1]\n",
    "test2 = wilcoxon(eval_pivot['eval'].multiplicative,eval_pivot['eval'].additive,alternative='greater')[1]\n",
    "test3 = wilcoxon(eval_pivot['eval'].additive,eval_pivot['eval'].GC,alternative='greater')[1]\n",
    "\n",
    "plt.xlabel('')\n",
    "def ptostar(pval):\n",
    "    p1 = 'n.s.'\n",
    "    if pval < 0.05:\n",
    "        p1 = '*'\n",
    "    if pval < 0.01:\n",
    "        p1 = '**'\n",
    "    if pval < 0.001:\n",
    "        p1 = '***'\n",
    "    return p1\n",
    "p1 = ptostar(test1)\n",
    "p2 = ptostar(test2)\n",
    "p3 = ptostar(test3)\n",
    "print(test1,test2,test3)\n",
    "dist1=0.05\n",
    "dist2=0.2\n",
    "x1,x2 = 1,3\n",
    "y, h, col = eval_pivot['eval'].conditional.max() + dist2+0.05, dist1, 'k'\n",
    "plt.plot([x1, x1, x2, x2], [y, y+h, y+h, y], lw=1.5, c=col)\n",
    "plt.text((x1+x2)*0.5, y+h, p1, ha='center', va='bottom', color=col)\n",
    "x1,x2 = 1,2\n",
    "y, h, col = eval_pivot['eval'].multiplicative.max() + 0.18, dist1, 'k'\n",
    "plt.plot([x1, x1, x2, x2], [y, y+h, y+h, y], lw=1.5, c=col)\n",
    "plt.text((x1+x2)*0.5, y+h, p2, ha='center', va='bottom', color=col)\n",
    "x1,x2 = 0,1\n",
    "y, h, col = eval_pivot['eval'].additive.max() + 0.1, dist1, 'k'\n",
    "plt.plot([x1, x1, x2, x2], [y, y+h, y+h, y], lw=1, c=col)\n",
    "plt.text((x1+x2)*0.5, y+h, p3, ha='center', va='bottom', color=col)\n",
    "plt.xlabel('')\n",
    "plt.axis([-0.5,3.5,0,1.0])\n",
    "\n",
    "plt.title('Differential Accessibility')\n",
    "plt.tight_layout()\n",
    "plt.savefig('plots/oskfgs-eval-significance.svg',bbox_inches='tight')"
   ]
  },
  {
   "cell_type": "code",
   "execution_count": 52,
   "metadata": {},
   "outputs": [
    {
     "data": {
      "text/plain": [
       "<Figure size 360x360 with 0 Axes>"
      ]
     },
     "metadata": {},
     "output_type": "display_data"
    }
   ],
   "source": [
    "kmer_conditional_data = pd.DataFrame(kmer_ev)\n",
    "plt.figure(figsize=(5,5))\n",
    "is_significant = {}\n",
    "best_model_de = {}\n",
    "test_comparison =  {}\n",
    "pvals = {}\n",
    "for tfset in tf_combos:\n",
    "    tmp = kmer_conditional_data[kmer_conditional_data['tfset']==tfset]\n",
    "    tmppv = tmp.pivot_table(index='rep',columns='model',values='ed_eval')\n",
    "    best_model = 'additive'\n",
    "    for model in ['multiplicative','conditional']:\n",
    "        test = wilcoxon(tmppv[model],tmppv[best_model],alternative='less')\n",
    "        if test[1] < (0.05/(2*len(tf_combos))):\n",
    "            best_model = model\n",
    "    best_model_de[tfset] = best_model"
   ]
  },
  {
   "cell_type": "code",
   "execution_count": 53,
   "metadata": {},
   "outputs": [
    {
     "data": {
      "text/plain": [
       "<Figure size 360x360 with 0 Axes>"
      ]
     },
     "metadata": {},
     "output_type": "display_data"
    }
   ],
   "source": [
    "kmer_conditional_data = pd.DataFrame(kmer_ev)\n",
    "plt.figure(figsize=(5,5))\n",
    "is_significant = {}\n",
    "best_model_esc = {}\n",
    "test_comparison =  {}\n",
    "\n",
    "for tfset in tf_combos:\n",
    "    tmp = kmer_conditional_data[kmer_conditional_data['tfset']==tfset]\n",
    "    tmppv = tmp.pivot_table(index='rep',columns='model',values='es_eval')\n",
    "    best_model = 'additive'\n",
    "    for model in ['multiplicative','conditional']:\n",
    "        test = wilcoxon(tmppv[model],tmppv[best_model],alternative='less')\n",
    "        if test[1] < (0.05/(2*len(tf_combos))):\n",
    "            best_model = model\n",
    "    best_model_esc[tfset] = best_model"
   ]
  },
  {
   "cell_type": "code",
   "execution_count": 54,
   "metadata": {},
   "outputs": [
    {
     "data": {
      "text/plain": [
       "<Figure size 360x360 with 0 Axes>"
      ]
     },
     "metadata": {},
     "output_type": "display_data"
    }
   ],
   "source": [
    "kmer_conditional_data = pd.DataFrame(kmer_ev)\n",
    "plt.figure(figsize=(5,5))\n",
    "is_significant = {}\n",
    "best_model_diff= {}\n",
    "for tfset in tf_combos:\n",
    "    tmp = kmer_conditional_data[kmer_conditional_data['tfset']==tfset]\n",
    "    tmppv = tmp.pivot_table(index='rep',columns='model',values='eval')\n",
    "    best_model='additive'\n",
    "    for model in ['multiplicative','conditional']:\n",
    "        test = wilcoxon(tmppv[model],tmppv[best_model],alternative='less')\n",
    "        if test[1] < (0.05/(2*len(tf_combos))):\n",
    "            best_model = model\n",
    "    best_model_diff[tfset] = best_model"
   ]
  },
  {
   "cell_type": "code",
   "execution_count": 58,
   "metadata": {},
   "outputs": [
    {
     "name": "stderr",
     "output_type": "stream",
     "text": [
      "/data/gl/g1/jhammelm/env/miniconda3/envs/jupyter-cpu/lib/python3.6/site-packages/scipy/stats/morestats.py:2863: UserWarning: Sample size too small for normal approximation.\n",
      "  warnings.warn(\"Sample size too small for normal approximation.\")\n"
     ]
    }
   ],
   "source": [
    "keep = df[df['tf'].isin([c for c in set(df['tf']) \n",
    "                                      if (('oct4' in c) or ('sox2' in c) or ('klf4' in c)\n",
    "                                         or ('sox17' in c) or ('gata4' in c) or ('foxa2' in c))])]\n",
    "\n",
    "wilcoxon_tests = {}\n",
    "ttest_tests = {}\n",
    "all_cats = list(set(keep['tf']))\n",
    "fc = {}\n",
    "for cat in all_cats:\n",
    "    keep_cat = keep[(keep['tf']==cat)&(keep['control']=='motif')]\n",
    "    keep_pd = keep_cat.pivot_table(index=['background','distance'],values=['ES Dpn ratio','ED Dpn ratio']).dropna()\n",
    "    wilcoxon_tests[cat] = wilcoxon(keep_pd['ES Dpn ratio'],keep_pd['ED Dpn ratio'])\n",
    "    ttest_tests[cat] = ttest_rel(keep_pd['ES Dpn ratio'],keep_pd['ED Dpn ratio'])\n",
    "    fc[cat] = np.mean(keep_pd['ES Dpn ratio'])/(np.mean(keep_pd['ED Dpn ratio'])+np.mean(keep_pd['ES Dpn ratio']))\n",
    "wilcoxon_pvals = np.array([wilcoxon_tests[cat][1] for cat in all_cats])\n",
    "ttest_pvals = np.array([ttest_tests[cat][1] for cat in all_cats])\n",
    "wilcoxon_true,_,_,_ = multipletests(wilcoxon_pvals,method='fdr_bh')\n",
    "ttest_true,_,_,_ = multipletests(ttest_pvals,method='fdr_bh')\n",
    "diff_sig_cats = [cat for i,cat in enumerate(all_cats) if ttest_true[i] and wilcoxon_true[i]]"
   ]
  },
  {
   "cell_type": "code",
   "execution_count": 59,
   "metadata": {},
   "outputs": [],
   "source": [
    "scram_wilcoxon_tests = {}\n",
    "scram_ttest_tests = {}\n",
    "for cat in diff_sig_cats:\n",
    "    keep_motif = keep[(keep['tf']==cat)&(keep['control']=='motif')]\n",
    "    def contains_motifs(df_cat):\n",
    "        data = cat.split(',')\n",
    "        for tf in data:\n",
    "            if tf not in df_cat:\n",
    "                return False\n",
    "        return True\n",
    "    keep_ctrl = keep[keep['tf']==cat]\n",
    "    keep_ctrl = keep_ctrl[keep_ctrl['control']=='scrambled']\n",
    "    keep_cat = pd.concat([keep_ctrl,keep_motif])\n",
    "    keep_pd = keep_cat.pivot_table(index=['background','distance'],columns=['control'],\n",
    "                                   values=['ES Dpn ratio','ED Dpn ratio']).dropna()\n",
    "    es_scram = wilcoxon(keep_pd['ES Dpn ratio'].motif,keep_pd['ES Dpn ratio'].scrambled)\n",
    "    ed_scram = wilcoxon(keep_pd['ED Dpn ratio'].motif,keep_pd['ED Dpn ratio'].scrambled)\n",
    "    if es_scram[1] < ed_scram[1]:\n",
    "        scram_wilcoxon_tests[cat] = es_scram\n",
    "    else:\n",
    "        scram_wilcoxon_tests[cat] = ed_scram\n",
    "    es_scram = ttest_rel(keep_pd['ES Dpn ratio'].motif,keep_pd['ES Dpn ratio'].scrambled)\n",
    "    ed_scram = ttest_rel(keep_pd['ED Dpn ratio'].motif,keep_pd['ED Dpn ratio'].scrambled)\n",
    "    if es_scram[1] < ed_scram[1]:\n",
    "        scram_ttest_tests[cat] = es_scram\n",
    "    else:\n",
    "        scram_ttest_tests[cat] = ed_scram\n",
    "wilcoxon_pvals = np.array([scram_wilcoxon_tests[cat][1] for cat in diff_sig_cats])\n",
    "ttest_pvals = np.array([scram_ttest_tests[cat][1] for cat in diff_sig_cats])\n",
    "\n",
    "wilcoxon_true,_,_,_ = multipletests(wilcoxon_pvals,method='fdr_bh')\n",
    "ttest_true,_,_,_ = multipletests(ttest_pvals,method='fdr_bh')\n",
    "scram_diff_sig_cats = [cat for i,cat in enumerate(diff_sig_cats) if ttest_true[i] and wilcoxon_true[i]]\n",
    "scram_diff_sig_ordered = sorted(scram_diff_sig_cats,key=lambda x:ttest_tests[x][1])"
   ]
  },
  {
   "cell_type": "code",
   "execution_count": 60,
   "metadata": {},
   "outputs": [],
   "source": [
    "best_model_eval = pd.DataFrame({'TF-combo':tf_combos,\n",
    "                               'Best Model ESC':[best_model_esc[tf] for tf in tf_combos],\n",
    "                               'Best Model DE':[best_model_de[tf] for tf in tf_combos],\n",
    "                               'Best Model Differential':[best_model_diff[tf] for tf in tf_combos],\n",
    "                               'Is Differential':[tf in scram_diff_sig_ordered for tf in tf_combos]})\n",
    "#best_model_eval.to_csv('nonlinear-OSKFG-results.csv')"
   ]
  },
  {
   "cell_type": "code",
   "execution_count": 61,
   "metadata": {},
   "outputs": [
    {
     "data": {
      "text/html": [
       "<div>\n",
       "<style scoped>\n",
       "    .dataframe tbody tr th:only-of-type {\n",
       "        vertical-align: middle;\n",
       "    }\n",
       "\n",
       "    .dataframe tbody tr th {\n",
       "        vertical-align: top;\n",
       "    }\n",
       "\n",
       "    .dataframe thead th {\n",
       "        text-align: right;\n",
       "    }\n",
       "</style>\n",
       "<table border=\"1\" class=\"dataframe\">\n",
       "  <thead>\n",
       "    <tr style=\"text-align: right;\">\n",
       "      <th></th>\n",
       "      <th>TF-combo</th>\n",
       "      <th>Best Model ESC</th>\n",
       "      <th>Best Model DE</th>\n",
       "      <th>Best Model Differential</th>\n",
       "      <th>Is Differential</th>\n",
       "    </tr>\n",
       "  </thead>\n",
       "  <tbody>\n",
       "    <tr>\n",
       "      <th>0</th>\n",
       "      <td>oct4,oct4</td>\n",
       "      <td>additive</td>\n",
       "      <td>additive</td>\n",
       "      <td>additive</td>\n",
       "      <td>False</td>\n",
       "    </tr>\n",
       "    <tr>\n",
       "      <th>1</th>\n",
       "      <td>oct4,klf4</td>\n",
       "      <td>additive</td>\n",
       "      <td>additive</td>\n",
       "      <td>additive</td>\n",
       "      <td>True</td>\n",
       "    </tr>\n",
       "    <tr>\n",
       "      <th>2</th>\n",
       "      <td>sox2,oct4</td>\n",
       "      <td>additive</td>\n",
       "      <td>additive</td>\n",
       "      <td>additive</td>\n",
       "      <td>False</td>\n",
       "    </tr>\n",
       "    <tr>\n",
       "      <th>3</th>\n",
       "      <td>sox2,sox2</td>\n",
       "      <td>additive</td>\n",
       "      <td>additive</td>\n",
       "      <td>additive</td>\n",
       "      <td>True</td>\n",
       "    </tr>\n",
       "    <tr>\n",
       "      <th>4</th>\n",
       "      <td>klf4,sox2</td>\n",
       "      <td>additive</td>\n",
       "      <td>multiplicative</td>\n",
       "      <td>additive</td>\n",
       "      <td>True</td>\n",
       "    </tr>\n",
       "    <tr>\n",
       "      <th>5</th>\n",
       "      <td>oct4,sox2</td>\n",
       "      <td>additive</td>\n",
       "      <td>multiplicative</td>\n",
       "      <td>additive</td>\n",
       "      <td>False</td>\n",
       "    </tr>\n",
       "    <tr>\n",
       "      <th>6</th>\n",
       "      <td>klf4,oct4</td>\n",
       "      <td>additive</td>\n",
       "      <td>additive</td>\n",
       "      <td>additive</td>\n",
       "      <td>False</td>\n",
       "    </tr>\n",
       "    <tr>\n",
       "      <th>7</th>\n",
       "      <td>klf4,klf4</td>\n",
       "      <td>additive</td>\n",
       "      <td>additive</td>\n",
       "      <td>additive</td>\n",
       "      <td>True</td>\n",
       "    </tr>\n",
       "    <tr>\n",
       "      <th>8</th>\n",
       "      <td>sox2,klf4</td>\n",
       "      <td>additive</td>\n",
       "      <td>additive</td>\n",
       "      <td>additive</td>\n",
       "      <td>True</td>\n",
       "    </tr>\n",
       "    <tr>\n",
       "      <th>9</th>\n",
       "      <td>oct4,klf4,sox2</td>\n",
       "      <td>additive</td>\n",
       "      <td>additive</td>\n",
       "      <td>additive</td>\n",
       "      <td>True</td>\n",
       "    </tr>\n",
       "    <tr>\n",
       "      <th>10</th>\n",
       "      <td>klf4,klf4,klf4</td>\n",
       "      <td>additive</td>\n",
       "      <td>additive</td>\n",
       "      <td>conditional</td>\n",
       "      <td>False</td>\n",
       "    </tr>\n",
       "    <tr>\n",
       "      <th>11</th>\n",
       "      <td>sox2,oct4,klf4</td>\n",
       "      <td>additive</td>\n",
       "      <td>additive</td>\n",
       "      <td>additive</td>\n",
       "      <td>False</td>\n",
       "    </tr>\n",
       "    <tr>\n",
       "      <th>12</th>\n",
       "      <td>sox2,sox2,sox2</td>\n",
       "      <td>additive</td>\n",
       "      <td>additive</td>\n",
       "      <td>additive</td>\n",
       "      <td>True</td>\n",
       "    </tr>\n",
       "    <tr>\n",
       "      <th>13</th>\n",
       "      <td>klf4,oct4,sox2</td>\n",
       "      <td>additive</td>\n",
       "      <td>additive</td>\n",
       "      <td>additive</td>\n",
       "      <td>False</td>\n",
       "    </tr>\n",
       "    <tr>\n",
       "      <th>14</th>\n",
       "      <td>oct4,sox2,klf4</td>\n",
       "      <td>additive</td>\n",
       "      <td>additive</td>\n",
       "      <td>additive</td>\n",
       "      <td>True</td>\n",
       "    </tr>\n",
       "    <tr>\n",
       "      <th>15</th>\n",
       "      <td>oct4,oct4,oct4</td>\n",
       "      <td>additive</td>\n",
       "      <td>additive</td>\n",
       "      <td>additive</td>\n",
       "      <td>False</td>\n",
       "    </tr>\n",
       "    <tr>\n",
       "      <th>16</th>\n",
       "      <td>klf4,sox2,oct4</td>\n",
       "      <td>additive</td>\n",
       "      <td>additive</td>\n",
       "      <td>additive</td>\n",
       "      <td>True</td>\n",
       "    </tr>\n",
       "    <tr>\n",
       "      <th>17</th>\n",
       "      <td>sox2,klf4,oct4</td>\n",
       "      <td>additive</td>\n",
       "      <td>additive</td>\n",
       "      <td>additive</td>\n",
       "      <td>True</td>\n",
       "    </tr>\n",
       "    <tr>\n",
       "      <th>18</th>\n",
       "      <td>foxa2,foxa2</td>\n",
       "      <td>additive</td>\n",
       "      <td>additive</td>\n",
       "      <td>additive</td>\n",
       "      <td>False</td>\n",
       "    </tr>\n",
       "    <tr>\n",
       "      <th>19</th>\n",
       "      <td>foxa2,gata4</td>\n",
       "      <td>additive</td>\n",
       "      <td>additive</td>\n",
       "      <td>additive</td>\n",
       "      <td>True</td>\n",
       "    </tr>\n",
       "    <tr>\n",
       "      <th>20</th>\n",
       "      <td>gata4,gata4</td>\n",
       "      <td>multiplicative</td>\n",
       "      <td>additive</td>\n",
       "      <td>additive</td>\n",
       "      <td>False</td>\n",
       "    </tr>\n",
       "    <tr>\n",
       "      <th>21</th>\n",
       "      <td>sox17,gata4</td>\n",
       "      <td>multiplicative</td>\n",
       "      <td>additive</td>\n",
       "      <td>multiplicative</td>\n",
       "      <td>True</td>\n",
       "    </tr>\n",
       "    <tr>\n",
       "      <th>22</th>\n",
       "      <td>gata4,sox17</td>\n",
       "      <td>additive</td>\n",
       "      <td>additive</td>\n",
       "      <td>additive</td>\n",
       "      <td>False</td>\n",
       "    </tr>\n",
       "    <tr>\n",
       "      <th>23</th>\n",
       "      <td>sox17,sox17</td>\n",
       "      <td>additive</td>\n",
       "      <td>additive</td>\n",
       "      <td>additive</td>\n",
       "      <td>True</td>\n",
       "    </tr>\n",
       "    <tr>\n",
       "      <th>24</th>\n",
       "      <td>foxa2,sox17</td>\n",
       "      <td>additive</td>\n",
       "      <td>additive</td>\n",
       "      <td>additive</td>\n",
       "      <td>False</td>\n",
       "    </tr>\n",
       "    <tr>\n",
       "      <th>25</th>\n",
       "      <td>sox17,foxa2</td>\n",
       "      <td>additive</td>\n",
       "      <td>additive</td>\n",
       "      <td>additive</td>\n",
       "      <td>False</td>\n",
       "    </tr>\n",
       "    <tr>\n",
       "      <th>26</th>\n",
       "      <td>gata4,foxa2</td>\n",
       "      <td>additive</td>\n",
       "      <td>additive</td>\n",
       "      <td>additive</td>\n",
       "      <td>True</td>\n",
       "    </tr>\n",
       "    <tr>\n",
       "      <th>27</th>\n",
       "      <td>gata4,sox17,foxa2</td>\n",
       "      <td>multiplicative</td>\n",
       "      <td>additive</td>\n",
       "      <td>multiplicative</td>\n",
       "      <td>False</td>\n",
       "    </tr>\n",
       "    <tr>\n",
       "      <th>28</th>\n",
       "      <td>foxa2,sox17,gata4</td>\n",
       "      <td>additive</td>\n",
       "      <td>multiplicative</td>\n",
       "      <td>additive</td>\n",
       "      <td>False</td>\n",
       "    </tr>\n",
       "    <tr>\n",
       "      <th>29</th>\n",
       "      <td>sox17,sox17,sox17</td>\n",
       "      <td>additive</td>\n",
       "      <td>additive</td>\n",
       "      <td>additive</td>\n",
       "      <td>True</td>\n",
       "    </tr>\n",
       "    <tr>\n",
       "      <th>30</th>\n",
       "      <td>foxa2,gata4,sox17</td>\n",
       "      <td>additive</td>\n",
       "      <td>additive</td>\n",
       "      <td>additive</td>\n",
       "      <td>False</td>\n",
       "    </tr>\n",
       "    <tr>\n",
       "      <th>31</th>\n",
       "      <td>gata4,foxa2,sox17</td>\n",
       "      <td>additive</td>\n",
       "      <td>additive</td>\n",
       "      <td>additive</td>\n",
       "      <td>False</td>\n",
       "    </tr>\n",
       "    <tr>\n",
       "      <th>32</th>\n",
       "      <td>sox17,gata4,foxa2</td>\n",
       "      <td>additive</td>\n",
       "      <td>additive</td>\n",
       "      <td>additive</td>\n",
       "      <td>False</td>\n",
       "    </tr>\n",
       "    <tr>\n",
       "      <th>33</th>\n",
       "      <td>gata4,gata4,gata4</td>\n",
       "      <td>multiplicative</td>\n",
       "      <td>additive</td>\n",
       "      <td>multiplicative</td>\n",
       "      <td>False</td>\n",
       "    </tr>\n",
       "    <tr>\n",
       "      <th>34</th>\n",
       "      <td>sox17,foxa2,gata4</td>\n",
       "      <td>additive</td>\n",
       "      <td>additive</td>\n",
       "      <td>additive</td>\n",
       "      <td>False</td>\n",
       "    </tr>\n",
       "    <tr>\n",
       "      <th>35</th>\n",
       "      <td>foxa2,foxa2,foxa2</td>\n",
       "      <td>additive</td>\n",
       "      <td>multiplicative</td>\n",
       "      <td>additive</td>\n",
       "      <td>False</td>\n",
       "    </tr>\n",
       "  </tbody>\n",
       "</table>\n",
       "</div>"
      ],
      "text/plain": [
       "             TF-combo  Best Model ESC   Best Model DE Best Model Differential  \\\n",
       "0           oct4,oct4        additive        additive                additive   \n",
       "1           oct4,klf4        additive        additive                additive   \n",
       "2           sox2,oct4        additive        additive                additive   \n",
       "3           sox2,sox2        additive        additive                additive   \n",
       "4           klf4,sox2        additive  multiplicative                additive   \n",
       "5           oct4,sox2        additive  multiplicative                additive   \n",
       "6           klf4,oct4        additive        additive                additive   \n",
       "7           klf4,klf4        additive        additive                additive   \n",
       "8           sox2,klf4        additive        additive                additive   \n",
       "9      oct4,klf4,sox2        additive        additive                additive   \n",
       "10     klf4,klf4,klf4        additive        additive             conditional   \n",
       "11     sox2,oct4,klf4        additive        additive                additive   \n",
       "12     sox2,sox2,sox2        additive        additive                additive   \n",
       "13     klf4,oct4,sox2        additive        additive                additive   \n",
       "14     oct4,sox2,klf4        additive        additive                additive   \n",
       "15     oct4,oct4,oct4        additive        additive                additive   \n",
       "16     klf4,sox2,oct4        additive        additive                additive   \n",
       "17     sox2,klf4,oct4        additive        additive                additive   \n",
       "18        foxa2,foxa2        additive        additive                additive   \n",
       "19        foxa2,gata4        additive        additive                additive   \n",
       "20        gata4,gata4  multiplicative        additive                additive   \n",
       "21        sox17,gata4  multiplicative        additive          multiplicative   \n",
       "22        gata4,sox17        additive        additive                additive   \n",
       "23        sox17,sox17        additive        additive                additive   \n",
       "24        foxa2,sox17        additive        additive                additive   \n",
       "25        sox17,foxa2        additive        additive                additive   \n",
       "26        gata4,foxa2        additive        additive                additive   \n",
       "27  gata4,sox17,foxa2  multiplicative        additive          multiplicative   \n",
       "28  foxa2,sox17,gata4        additive  multiplicative                additive   \n",
       "29  sox17,sox17,sox17        additive        additive                additive   \n",
       "30  foxa2,gata4,sox17        additive        additive                additive   \n",
       "31  gata4,foxa2,sox17        additive        additive                additive   \n",
       "32  sox17,gata4,foxa2        additive        additive                additive   \n",
       "33  gata4,gata4,gata4  multiplicative        additive          multiplicative   \n",
       "34  sox17,foxa2,gata4        additive        additive                additive   \n",
       "35  foxa2,foxa2,foxa2        additive  multiplicative                additive   \n",
       "\n",
       "    Is Differential  \n",
       "0             False  \n",
       "1              True  \n",
       "2             False  \n",
       "3              True  \n",
       "4              True  \n",
       "5             False  \n",
       "6             False  \n",
       "7              True  \n",
       "8              True  \n",
       "9              True  \n",
       "10            False  \n",
       "11            False  \n",
       "12             True  \n",
       "13            False  \n",
       "14             True  \n",
       "15            False  \n",
       "16             True  \n",
       "17             True  \n",
       "18            False  \n",
       "19             True  \n",
       "20            False  \n",
       "21             True  \n",
       "22            False  \n",
       "23             True  \n",
       "24            False  \n",
       "25            False  \n",
       "26             True  \n",
       "27            False  \n",
       "28            False  \n",
       "29             True  \n",
       "30            False  \n",
       "31            False  \n",
       "32            False  \n",
       "33            False  \n",
       "34            False  \n",
       "35            False  "
      ]
     },
     "execution_count": 61,
     "metadata": {},
     "output_type": "execute_result"
    }
   ],
   "source": [
    "best_model_eval"
   ]
  }
 ],
 "metadata": {
  "kernelspec": {
   "display_name": "Python 3",
   "language": "python",
   "name": "python3"
  },
  "language_info": {
   "codemirror_mode": {
    "name": "ipython",
    "version": 3
   },
   "file_extension": ".py",
   "mimetype": "text/x-python",
   "name": "python",
   "nbconvert_exporter": "python",
   "pygments_lexer": "ipython3",
   "version": "3.6.9"
  }
 },
 "nbformat": 4,
 "nbformat_minor": 2
}
